{
 "cells": [
  {
   "cell_type": "markdown",
   "metadata": {},
   "source": [
    "# Kaggle Playground Series - Exploring Mental Health Data\n",
    "\n",
    "[Kaggle Playground Series - s04-e11](https://www.kaggle.com/competitions/playground-series-s4e11/overview)"
   ]
  },
  {
   "cell_type": "markdown",
   "metadata": {},
   "source": [
    "## Configuration"
   ]
  },
  {
   "cell_type": "code",
   "execution_count": 400,
   "metadata": {},
   "outputs": [],
   "source": [
    "import pandas as pd\n",
    "import os\n",
    "import zipfile\n",
    "import matplotlib.pyplot as plt\n",
    "import numpy as np\n",
    "import seaborn as sns\n",
    "\n",
    "from kaggle import KaggleApi\n",
    "\n",
    "from scipy.stats import chi2_contingency, randint, ttest_ind, mannwhitneyu, ks_2samp, pointbiserialr\n",
    "from statsmodels.graphics.mosaicplot import mosaic\n",
    "\n",
    "from sklearn.preprocessing import StandardScaler, OneHotEncoder, OrdinalEncoder\n",
    "from sklearn.impute import SimpleImputer\n",
    "from sklearn.pipeline import Pipeline\n",
    "from sklearn.compose import ColumnTransformer\n",
    "from sklearn.model_selection import RandomizedSearchCV\n",
    "from sklearn.model_selection import train_test_split\n",
    "\n",
    "from lightgbm import LGBMClassifier\n"
   ]
  },
  {
   "cell_type": "markdown",
   "metadata": {},
   "source": [
    "### Helper Functions"
   ]
  },
  {
   "cell_type": "code",
   "execution_count": 401,
   "metadata": {},
   "outputs": [],
   "source": [
    "def kaggle_download(competition_name, output_dir):\n",
    "    api = KaggleApi()\n",
    "    api.authenticate()\n",
    "    os.makedirs(output_dir, exist_ok=True)\n",
    "    api.competition_download_files(competition_name, path=output_dir)\n",
    "    zip_path = os.path.join(output_dir, f\"{competition_name}.zip\")\n",
    "    if os.path.exists(zip_path):\n",
    "        with zipfile.ZipFile(zip_path, 'r') as zip_ref:\n",
    "            zip_ref.extractall(output_dir)\n",
    "        print(f\"Extracted all files to '{output_dir}'\")\n",
    "        os.remove(zip_path)\n",
    "    else:\n",
    "        print(f\"No zip file found at '{zip_path}'\")\n",
    "\n",
    "def categorical_tests(df, feature, label):\n",
    "    cont_table = pd.crosstab(df[feature], df[label])\n",
    "    chi2, p, _, _ = chi2_contingency(cont_table)\n",
    "    n = cont_table.values.sum()\n",
    "    cramers_v = np.sqrt(chi2 / (n * (min(cont_table.shape) - 1)))\n",
    "    print(f\"Feature: {feature}\")\n",
    "    print(f\"Chi-Square Statistic: {round(chi2, 2)}\")\n",
    "    print(f\"P-value: {round(p, 10)}\")\n",
    "    print(f\"Cramér's V: {round(cramers_v, 3)}\")\n",
    "\n",
    "def categorical_exploration(df, feature, label, n):\n",
    "    top_cats = df[feature].value_counts().index[:n]\n",
    "    top = df[df[feature].isin(top_cats)]\n",
    "    _, ax = plt.subplots(figsize=(8, 4))\n",
    "    mosaic(top, [feature, label], ax=ax)\n",
    "    plt.xlabel(feature)\n",
    "    plt.show()\n",
    "    categorical_tests(top, feature, label)\n",
    "\n",
    "def top_contributors(df, feature, prop):\n",
    "    categories = df[feature].value_counts(normalize=True, dropna=False).to_frame().reset_index()\n",
    "    categories[\"cumulative\"] = categories[\"proportion\"].cumsum()\n",
    "    categories = categories[categories[\"proportion\"] >= prop]\n",
    "    return categories, categories[feature].to_list()\n",
    "\n",
    "def numeric_exploration(df, feature, label):\n",
    "    sns.boxenplot(data=df, x=label, y=feature)\n",
    "    group0 = df[df[label] == 0][feature]\n",
    "    group1 = df[df[label] == 1][feature]\n",
    "    stat, p_value = ttest_ind(group0, group1, equal_var=False)\n",
    "    print(f\"Statistic: {stat}, p-value: {p_value}\")\n",
    "    stat, p_value = mannwhitneyu(group0, group1, alternative='two-sided')\n",
    "    print(f\"Statistic: {stat}, p-value: {p_value}\")\n",
    "    stat, p_value = ks_2samp(group0, group1)\n",
    "    print(f\"Statistic: {stat}, p-value: {p_value}\")\n",
    "    correlation, p_value = pointbiserialr(df[feature], df[label])\n",
    "    print(f\"Correlation: {correlation}, p-value: {p_value}\")"
   ]
  },
  {
   "cell_type": "markdown",
   "metadata": {},
   "source": [
    "### Load, Extract and Transform Data"
   ]
  },
  {
   "cell_type": "code",
   "execution_count": 402,
   "metadata": {},
   "outputs": [
    {
     "name": "stdout",
     "output_type": "stream",
     "text": [
      "Extracted all files to 'data'\n"
     ]
    }
   ],
   "source": [
    "kaggle_download(\"playground-series-s4e11\", \"data\")   "
   ]
  },
  {
   "cell_type": "code",
   "execution_count": 403,
   "metadata": {},
   "outputs": [
    {
     "data": {
      "text/plain": [
       "Name                                      object\n",
       "Gender                                    object\n",
       "Age                                      float64\n",
       "City                                      object\n",
       "Working Professional or Student           object\n",
       "Profession                                object\n",
       "Academic Pressure                        float64\n",
       "Work Pressure                            float64\n",
       "CGPA                                     float64\n",
       "Study Satisfaction                       float64\n",
       "Job Satisfaction                         float64\n",
       "Sleep Duration                            object\n",
       "Dietary Habits                            object\n",
       "Degree                                    object\n",
       "Have you ever had suicidal thoughts ?     object\n",
       "Work/Study Hours                         float64\n",
       "Financial Stress                         float64\n",
       "Family History of Mental Illness          object\n",
       "Depression                                 int64\n",
       "dtype: object"
      ]
     },
     "execution_count": 403,
     "metadata": {},
     "output_type": "execute_result"
    }
   ],
   "source": [
    "# load the training dataset\n",
    "train_df = pd.read_csv(\"data/train.csv\")\n",
    "\n",
    "# drop the id columns\n",
    "train_df.drop(\"id\", axis=1, inplace=True)\n",
    "\n",
    "# explore the data types\n",
    "train_df.dtypes"
   ]
  },
  {
   "cell_type": "markdown",
   "metadata": {},
   "source": [
    "Rename & reformat columns names."
   ]
  },
  {
   "cell_type": "code",
   "execution_count": 404,
   "metadata": {},
   "outputs": [
    {
     "data": {
      "text/plain": [
       "['name',\n",
       " 'gender',\n",
       " 'age',\n",
       " 'city',\n",
       " 'professional or student',\n",
       " 'profession',\n",
       " 'academic pressure',\n",
       " 'work pressure',\n",
       " 'cgpa',\n",
       " 'study satisfaction',\n",
       " 'job satisfaction',\n",
       " 'sleep duration',\n",
       " 'dietary habits',\n",
       " 'degree',\n",
       " 'suicidal thoughts',\n",
       " 'work/study hours',\n",
       " 'financial stress',\n",
       " 'family history',\n",
       " 'depression']"
      ]
     },
     "execution_count": 404,
     "metadata": {},
     "output_type": "execute_result"
    }
   ],
   "source": [
    "rename_dict = {\n",
    "        \"Have you ever had suicidal thoughts ?\" : \"suicidal thoughts\",\n",
    "        \"Family History of Mental Illness\" : \"family history\",\n",
    "        \"Working Professional or Student\" : \"professional or student\"\n",
    "    }\n",
    "\n",
    "train_df = train_df.rename(\n",
    "    columns=rename_dict\n",
    ")\n",
    "\n",
    "train_df.columns = [col.lower() for col in train_df.columns]\n",
    "\n",
    "list(train_df.columns)"
   ]
  },
  {
   "cell_type": "markdown",
   "metadata": {},
   "source": [
    "## EDA and Feature Engineering"
   ]
  },
  {
   "cell_type": "code",
   "execution_count": 405,
   "metadata": {},
   "outputs": [],
   "source": [
    "label = \"depression\""
   ]
  },
  {
   "cell_type": "markdown",
   "metadata": {},
   "source": [
    "### Categorical Features"
   ]
  },
  {
   "cell_type": "markdown",
   "metadata": {},
   "source": [
    "Ignore the name field as a potential feature."
   ]
  },
  {
   "cell_type": "code",
   "execution_count": 406,
   "metadata": {},
   "outputs": [
    {
     "data": {
      "text/html": [
       "<div>\n",
       "<style scoped>\n",
       "    .dataframe tbody tr th:only-of-type {\n",
       "        vertical-align: middle;\n",
       "    }\n",
       "\n",
       "    .dataframe tbody tr th {\n",
       "        vertical-align: top;\n",
       "    }\n",
       "\n",
       "    .dataframe thead th {\n",
       "        text-align: right;\n",
       "    }\n",
       "</style>\n",
       "<table border=\"1\" class=\"dataframe\">\n",
       "  <thead>\n",
       "    <tr style=\"text-align: right;\">\n",
       "      <th></th>\n",
       "      <th>name</th>\n",
       "      <th>gender</th>\n",
       "      <th>city</th>\n",
       "      <th>professional or student</th>\n",
       "      <th>profession</th>\n",
       "      <th>sleep duration</th>\n",
       "      <th>dietary habits</th>\n",
       "      <th>degree</th>\n",
       "      <th>suicidal thoughts</th>\n",
       "      <th>family history</th>\n",
       "    </tr>\n",
       "  </thead>\n",
       "  <tbody>\n",
       "    <tr>\n",
       "      <th>count</th>\n",
       "      <td>140700</td>\n",
       "      <td>140700</td>\n",
       "      <td>140700</td>\n",
       "      <td>140700</td>\n",
       "      <td>104070</td>\n",
       "      <td>140700</td>\n",
       "      <td>140696</td>\n",
       "      <td>140698</td>\n",
       "      <td>140700</td>\n",
       "      <td>140700</td>\n",
       "    </tr>\n",
       "    <tr>\n",
       "      <th>unique</th>\n",
       "      <td>422</td>\n",
       "      <td>2</td>\n",
       "      <td>98</td>\n",
       "      <td>2</td>\n",
       "      <td>64</td>\n",
       "      <td>36</td>\n",
       "      <td>23</td>\n",
       "      <td>115</td>\n",
       "      <td>2</td>\n",
       "      <td>2</td>\n",
       "    </tr>\n",
       "    <tr>\n",
       "      <th>top</th>\n",
       "      <td>Rohan</td>\n",
       "      <td>Male</td>\n",
       "      <td>Kalyan</td>\n",
       "      <td>Working Professional</td>\n",
       "      <td>Teacher</td>\n",
       "      <td>Less than 5 hours</td>\n",
       "      <td>Moderate</td>\n",
       "      <td>Class 12</td>\n",
       "      <td>No</td>\n",
       "      <td>No</td>\n",
       "    </tr>\n",
       "    <tr>\n",
       "      <th>freq</th>\n",
       "      <td>3178</td>\n",
       "      <td>77464</td>\n",
       "      <td>6591</td>\n",
       "      <td>112799</td>\n",
       "      <td>24906</td>\n",
       "      <td>38784</td>\n",
       "      <td>49705</td>\n",
       "      <td>14729</td>\n",
       "      <td>71138</td>\n",
       "      <td>70758</td>\n",
       "    </tr>\n",
       "  </tbody>\n",
       "</table>\n",
       "</div>"
      ],
      "text/plain": [
       "          name  gender    city professional or student profession  \\\n",
       "count   140700  140700  140700                  140700     104070   \n",
       "unique     422       2      98                       2         64   \n",
       "top      Rohan    Male  Kalyan    Working Professional    Teacher   \n",
       "freq      3178   77464    6591                  112799      24906   \n",
       "\n",
       "           sleep duration dietary habits    degree suicidal thoughts  \\\n",
       "count              140700         140696    140698            140700   \n",
       "unique                 36             23       115                 2   \n",
       "top     Less than 5 hours       Moderate  Class 12                No   \n",
       "freq                38784          49705     14729             71138   \n",
       "\n",
       "       family history  \n",
       "count          140700  \n",
       "unique              2  \n",
       "top                No  \n",
       "freq            70758  "
      ]
     },
     "execution_count": 406,
     "metadata": {},
     "output_type": "execute_result"
    }
   ],
   "source": [
    "train_df.select_dtypes(include=[\"object\"]).describe()"
   ]
  },
  {
   "cell_type": "markdown",
   "metadata": {},
   "source": [
    "#### Binary Categories"
   ]
  },
  {
   "cell_type": "code",
   "execution_count": 407,
   "metadata": {},
   "outputs": [
    {
     "data": {
      "text/plain": [
       "name                            0\n",
       "gender                          0\n",
       "age                             0\n",
       "city                            0\n",
       "professional or student         0\n",
       "profession                  36630\n",
       "academic pressure          112803\n",
       "work pressure               27918\n",
       "cgpa                       112802\n",
       "study satisfaction         112803\n",
       "job satisfaction            27910\n",
       "sleep duration                  0\n",
       "dietary habits                  4\n",
       "degree                          2\n",
       "suicidal thoughts               0\n",
       "work/study hours                0\n",
       "financial stress                4\n",
       "family history                  0\n",
       "depression                      0\n",
       "dtype: int64"
      ]
     },
     "execution_count": 407,
     "metadata": {},
     "output_type": "execute_result"
    }
   ],
   "source": [
    "binary_features = [\"gender\", \"professional or student\", \"suicidal thoughts\", \"family history\"]\n",
    "train_df.isnull().sum()"
   ]
  },
  {
   "cell_type": "code",
   "execution_count": 408,
   "metadata": {},
   "outputs": [
    {
     "data": {
      "image/png": "[encoded data removed]",
      "text/plain": [
       "<Figure size 800x400 with 3 Axes>"
      ]
     },
     "metadata": {},
     "output_type": "display_data"
    },
    {
     "name": "stdout",
     "output_type": "stream",
     "text": [
      "Feature: gender\n",
      "Chi-Square Statistic: 9.29\n",
      "P-value: 0.0023046498\n",
      "Cramér's V: 0.008\n"
     ]
    },
    {
     "data": {
      "image/png": "[encoded data removed]",
      "text/plain": [
       "<Figure size 800x400 with 3 Axes>"
      ]
     },
     "metadata": {},
     "output_type": "display_data"
    },
    {
     "name": "stdout",
     "output_type": "stream",
     "text": [
      "Feature: professional or student\n",
      "Chi-Square Statistic: 38157.59\n",
      "P-value: 0.0\n",
      "Cramér's V: 0.521\n"
     ]
    },
    {
     "data": {
      "image/png": "[encoded data removed]",
      "text/plain": [
       "<Figure size 800x400 with 3 Axes>"
      ]
     },
     "metadata": {},
     "output_type": "display_data"
    },
    {
     "name": "stdout",
     "output_type": "stream",
     "text": [
      "Feature: suicidal thoughts\n",
      "Chi-Square Statistic: 17142.06\n",
      "P-value: 0.0\n",
      "Cramér's V: 0.349\n"
     ]
    },
    {
     "data": {
      "image/png": "[encoded data removed]",
      "text/plain": [
       "<Figure size 800x400 with 3 Axes>"
      ]
     },
     "metadata": {},
     "output_type": "display_data"
    },
    {
     "name": "stdout",
     "output_type": "stream",
     "text": [
      "Feature: family history\n",
      "Chi-Square Statistic: 38.23\n",
      "P-value: 6e-10\n",
      "Cramér's V: 0.016\n"
     ]
    }
   ],
   "source": [
    "for feature in binary_features:\n",
    "    categorical_exploration(train_df, feature, label, 2)"
   ]
  },
  {
   "cell_type": "markdown",
   "metadata": {},
   "source": [
    "#### Sleep Duration"
   ]
  },
  {
   "cell_type": "code",
   "execution_count": 409,
   "metadata": {},
   "outputs": [],
   "source": [
    "feature = \"sleep duration\""
   ]
  },
  {
   "cell_type": "code",
   "execution_count": 410,
   "metadata": {},
   "outputs": [
    {
     "data": {
      "text/plain": [
       "sleep duration\n",
       "Less than 5 hours    0.275650\n",
       "7-8 hours            0.262751\n",
       "More than 8 hours    0.232594\n",
       "5-6 hours            0.228443\n",
       "3-4 hours            0.000085\n",
       "6-7 hours            0.000057\n",
       "4-5 hours            0.000050\n",
       "2-3 hours            0.000036\n",
       "4-6 hours            0.000036\n",
       "6-8 hours            0.000028\n",
       "1-6 hours            0.000028\n",
       "No                   0.000028\n",
       "9-11 hours           0.000014\n",
       "10-11 hours          0.000014\n",
       "Sleep_Duration       0.000014\n",
       "Unhealthy            0.000014\n",
       "45                   0.000014\n",
       "8-9 hours            0.000014\n",
       "10-6 hours           0.000007\n",
       "9-5                  0.000007\n",
       "45-48 hours          0.000007\n",
       "3-6 hours            0.000007\n",
       "Work_Study_Hours     0.000007\n",
       "49 hours             0.000007\n",
       "than 5 hours         0.000007\n",
       "Pune                 0.000007\n",
       "9-6 hours            0.000007\n",
       "8 hours              0.000007\n",
       "35-36 hours          0.000007\n",
       "Indore               0.000007\n",
       "1-3 hours            0.000007\n",
       "55-66 hours          0.000007\n",
       "Moderate             0.000007\n",
       "40-45 hours          0.000007\n",
       "1-2 hours            0.000007\n",
       "9-5 hours            0.000007\n",
       "Name: proportion, dtype: float64"
      ]
     },
     "execution_count": 410,
     "metadata": {},
     "output_type": "execute_result"
    }
   ],
   "source": [
    "categories = train_df[feature].value_counts(normalize=True, dropna=False)\n",
    "categories"
   ]
  },
  {
   "cell_type": "code",
   "execution_count": 411,
   "metadata": {},
   "outputs": [
    {
     "data": {
      "text/html": [
       "<div>\n",
       "<style scoped>\n",
       "    .dataframe tbody tr th:only-of-type {\n",
       "        vertical-align: middle;\n",
       "    }\n",
       "\n",
       "    .dataframe tbody tr th {\n",
       "        vertical-align: top;\n",
       "    }\n",
       "\n",
       "    .dataframe thead th {\n",
       "        text-align: right;\n",
       "    }\n",
       "</style>\n",
       "<table border=\"1\" class=\"dataframe\">\n",
       "  <thead>\n",
       "    <tr style=\"text-align: right;\">\n",
       "      <th></th>\n",
       "      <th>sleep duration</th>\n",
       "      <th>proportion</th>\n",
       "      <th>cumulative</th>\n",
       "    </tr>\n",
       "  </thead>\n",
       "  <tbody>\n",
       "    <tr>\n",
       "      <th>0</th>\n",
       "      <td>Less than 5 hours</td>\n",
       "      <td>0.275650</td>\n",
       "      <td>0.275650</td>\n",
       "    </tr>\n",
       "    <tr>\n",
       "      <th>1</th>\n",
       "      <td>7-8 hours</td>\n",
       "      <td>0.262751</td>\n",
       "      <td>0.538401</td>\n",
       "    </tr>\n",
       "    <tr>\n",
       "      <th>2</th>\n",
       "      <td>More than 8 hours</td>\n",
       "      <td>0.232594</td>\n",
       "      <td>0.770995</td>\n",
       "    </tr>\n",
       "    <tr>\n",
       "      <th>3</th>\n",
       "      <td>5-6 hours</td>\n",
       "      <td>0.228443</td>\n",
       "      <td>0.999439</td>\n",
       "    </tr>\n",
       "  </tbody>\n",
       "</table>\n",
       "</div>"
      ],
      "text/plain": [
       "      sleep duration  proportion  cumulative\n",
       "0  Less than 5 hours    0.275650    0.275650\n",
       "1          7-8 hours    0.262751    0.538401\n",
       "2  More than 8 hours    0.232594    0.770995\n",
       "3          5-6 hours    0.228443    0.999439"
      ]
     },
     "execution_count": 411,
     "metadata": {},
     "output_type": "execute_result"
    }
   ],
   "source": [
    "results, categories = top_contributors(train_df, feature, 0.01)\n",
    "results"
   ]
  },
  {
   "cell_type": "markdown",
   "metadata": {},
   "source": [
    "Sleep Duration is an inconsistent column, the most common responses (99%) are:\n",
    "- Less than 5 hours (28%)\n",
    "- 7-8 hours (26%)\n",
    "- More than 8 hours (23%)\n",
    "- 5-6 hours (22%)"
   ]
  },
  {
   "cell_type": "code",
   "execution_count": 412,
   "metadata": {},
   "outputs": [
    {
     "data": {
      "image/png": "[encoded data removed]",
      "text/plain": [
       "<Figure size 800x400 with 3 Axes>"
      ]
     },
     "metadata": {},
     "output_type": "display_data"
    },
    {
     "name": "stdout",
     "output_type": "stream",
     "text": [
      "Feature: sleep duration\n",
      "Chi-Square Statistic: 1197.45\n",
      "P-value: 0.0\n",
      "Cramér's V: 0.092\n"
     ]
    }
   ],
   "source": [
    "n_categories = len(categories)\n",
    "categorical_exploration(train_df, feature, \"depression\", n_categories)"
   ]
  },
  {
   "cell_type": "markdown",
   "metadata": {},
   "source": [
    "As the majority of records are part of these four categories, the remainder of categories will be invalidated and infilled as part of preprocessing."
   ]
  },
  {
   "cell_type": "code",
   "execution_count": 413,
   "metadata": {},
   "outputs": [
    {
     "data": {
      "text/plain": [
       "sleep duration\n",
       "Less than 5 hours    38784\n",
       "7-8 hours            36969\n",
       "More than 8 hours    32726\n",
       "5-6 hours            32142\n",
       "Unknown                 79\n",
       "Name: count, dtype: int64"
      ]
     },
     "execution_count": 413,
     "metadata": {},
     "output_type": "execute_result"
    }
   ],
   "source": [
    "train_df[feature] = train_df[feature].apply(lambda x: x if x in categories else \"Unknown\")\n",
    "train_df[feature].value_counts(dropna=False)"
   ]
  },
  {
   "cell_type": "markdown",
   "metadata": {},
   "source": [
    "#### Dietary Habits"
   ]
  },
  {
   "cell_type": "code",
   "execution_count": 414,
   "metadata": {},
   "outputs": [],
   "source": [
    "feature = \"dietary habits\""
   ]
  },
  {
   "cell_type": "code",
   "execution_count": 415,
   "metadata": {},
   "outputs": [
    {
     "data": {
      "text/plain": [
       "dietary habits\n",
       "Moderate             0.353269\n",
       "Unhealthy            0.328550\n",
       "Healthy              0.317989\n",
       "NaN                  0.000028\n",
       "Yes                  0.000014\n",
       "No                   0.000014\n",
       "More Healthy         0.000014\n",
       "Class 12             0.000007\n",
       "Indoor               0.000007\n",
       "Male                 0.000007\n",
       "Vegas                0.000007\n",
       "M.Tech               0.000007\n",
       "Less Healthy         0.000007\n",
       "No Healthy           0.000007\n",
       "Hormonal             0.000007\n",
       "Electrician          0.000007\n",
       "1.0                  0.000007\n",
       "Mihir                0.000007\n",
       "Less than Healthy    0.000007\n",
       "3                    0.000007\n",
       "Gender               0.000007\n",
       "BSc                  0.000007\n",
       "Pratham              0.000007\n",
       "2                    0.000007\n",
       "Name: proportion, dtype: float64"
      ]
     },
     "execution_count": 415,
     "metadata": {},
     "output_type": "execute_result"
    }
   ],
   "source": [
    "categories = train_df[feature].value_counts(normalize=True, dropna=False)\n",
    "categories"
   ]
  },
  {
   "cell_type": "code",
   "execution_count": 416,
   "metadata": {},
   "outputs": [
    {
     "data": {
      "text/html": [
       "<div>\n",
       "<style scoped>\n",
       "    .dataframe tbody tr th:only-of-type {\n",
       "        vertical-align: middle;\n",
       "    }\n",
       "\n",
       "    .dataframe tbody tr th {\n",
       "        vertical-align: top;\n",
       "    }\n",
       "\n",
       "    .dataframe thead th {\n",
       "        text-align: right;\n",
       "    }\n",
       "</style>\n",
       "<table border=\"1\" class=\"dataframe\">\n",
       "  <thead>\n",
       "    <tr style=\"text-align: right;\">\n",
       "      <th></th>\n",
       "      <th>dietary habits</th>\n",
       "      <th>proportion</th>\n",
       "      <th>cumulative</th>\n",
       "    </tr>\n",
       "  </thead>\n",
       "  <tbody>\n",
       "    <tr>\n",
       "      <th>0</th>\n",
       "      <td>Moderate</td>\n",
       "      <td>0.353269</td>\n",
       "      <td>0.353269</td>\n",
       "    </tr>\n",
       "    <tr>\n",
       "      <th>1</th>\n",
       "      <td>Unhealthy</td>\n",
       "      <td>0.328550</td>\n",
       "      <td>0.681819</td>\n",
       "    </tr>\n",
       "    <tr>\n",
       "      <th>2</th>\n",
       "      <td>Healthy</td>\n",
       "      <td>0.317989</td>\n",
       "      <td>0.999808</td>\n",
       "    </tr>\n",
       "  </tbody>\n",
       "</table>\n",
       "</div>"
      ],
      "text/plain": [
       "  dietary habits  proportion  cumulative\n",
       "0       Moderate    0.353269    0.353269\n",
       "1      Unhealthy    0.328550    0.681819\n",
       "2        Healthy    0.317989    0.999808"
      ]
     },
     "execution_count": 416,
     "metadata": {},
     "output_type": "execute_result"
    }
   ],
   "source": [
    "results, categories = top_contributors(train_df, feature, 0.01)\n",
    "results"
   ]
  },
  {
   "cell_type": "markdown",
   "metadata": {},
   "source": [
    "Dietary Habits is an inconsistent column, the most common responses (99%) are:\n",
    "- Moderate (35%)\n",
    "- Unhealthy (32%)\n",
    "- Healthy (32%)"
   ]
  },
  {
   "cell_type": "code",
   "execution_count": 417,
   "metadata": {},
   "outputs": [
    {
     "data": {
      "image/png": "[encoded data removed]",
      "text/plain": [
       "<Figure size 800x400 with 3 Axes>"
      ]
     },
     "metadata": {},
     "output_type": "display_data"
    },
    {
     "name": "stdout",
     "output_type": "stream",
     "text": [
      "Feature: dietary habits\n",
      "Chi-Square Statistic: 3238.67\n",
      "P-value: 0.0\n",
      "Cramér's V: 0.152\n"
     ]
    }
   ],
   "source": [
    "n_categories = len(categories)\n",
    "categorical_exploration(train_df, feature, \"depression\", n_categories)"
   ]
  },
  {
   "cell_type": "code",
   "execution_count": 418,
   "metadata": {},
   "outputs": [
    {
     "data": {
      "text/plain": [
       "dietary habits\n",
       "Moderate     49705\n",
       "Unhealthy    46227\n",
       "Healthy      44741\n",
       "Unknown         27\n",
       "Name: count, dtype: int64"
      ]
     },
     "execution_count": 418,
     "metadata": {},
     "output_type": "execute_result"
    }
   ],
   "source": [
    "train_df[feature] = train_df[feature].apply(lambda x: x if x in categories else \"Unknown\")\n",
    "train_df[feature].value_counts(dropna=False)"
   ]
  },
  {
   "cell_type": "markdown",
   "metadata": {},
   "source": [
    "#### Degree"
   ]
  },
  {
   "cell_type": "code",
   "execution_count": 419,
   "metadata": {},
   "outputs": [],
   "source": [
    "feature = \"degree\""
   ]
  },
  {
   "cell_type": "code",
   "execution_count": 420,
   "metadata": {},
   "outputs": [
    {
     "data": {
      "text/plain": [
       "degree\n",
       "Class 12    0.104684\n",
       "B.Ed        0.083092\n",
       "B.Arch      0.062132\n",
       "B.Com       0.057662\n",
       "B.Pharm     0.041620\n",
       "              ...   \n",
       "Vivaan      0.000007\n",
       "MTech       0.000007\n",
       "29          0.000007\n",
       "LLCom       0.000007\n",
       "Advait      0.000007\n",
       "Name: proportion, Length: 116, dtype: float64"
      ]
     },
     "execution_count": 420,
     "metadata": {},
     "output_type": "execute_result"
    }
   ],
   "source": [
    "categories = train_df[feature].value_counts(normalize=True, dropna=False)\n",
    "categories"
   ]
  },
  {
   "cell_type": "markdown",
   "metadata": {},
   "source": [
    "Degree is an inconsistent column with high cardinality, will groups into the following categories:\n",
    "- C - High School\n",
    "- B - Bachelors\n",
    "- M - Masters\n",
    "- P - PhD\n",
    "- L - (???)\n",
    "- U - Unknown"
   ]
  },
  {
   "cell_type": "code",
   "execution_count": 421,
   "metadata": {},
   "outputs": [],
   "source": [
    "train_df[feature] = train_df[feature].apply(lambda x: x[:1] if isinstance(x, str) else \"Unknown\")\n",
    "train_df[feature] = train_df[feature].apply(lambda x: x if x in [\"B\", \"M\", \"C\", \"L\", \"P\"] else \"Unknown\")"
   ]
  },
  {
   "cell_type": "code",
   "execution_count": 422,
   "metadata": {},
   "outputs": [
    {
     "data": {
      "text/plain": [
       "degree\n",
       "B          0.467726\n",
       "M          0.341116\n",
       "C          0.104698\n",
       "L          0.064030\n",
       "P          0.022090\n",
       "Unknown    0.000341\n",
       "Name: proportion, dtype: float64"
      ]
     },
     "execution_count": 422,
     "metadata": {},
     "output_type": "execute_result"
    }
   ],
   "source": [
    "categories = train_df[feature].value_counts(normalize=True, dropna=False)\n",
    "categories"
   ]
  },
  {
   "cell_type": "code",
   "execution_count": 423,
   "metadata": {},
   "outputs": [
    {
     "data": {
      "text/html": [
       "<div>\n",
       "<style scoped>\n",
       "    .dataframe tbody tr th:only-of-type {\n",
       "        vertical-align: middle;\n",
       "    }\n",
       "\n",
       "    .dataframe tbody tr th {\n",
       "        vertical-align: top;\n",
       "    }\n",
       "\n",
       "    .dataframe thead th {\n",
       "        text-align: right;\n",
       "    }\n",
       "</style>\n",
       "<table border=\"1\" class=\"dataframe\">\n",
       "  <thead>\n",
       "    <tr style=\"text-align: right;\">\n",
       "      <th></th>\n",
       "      <th>degree</th>\n",
       "      <th>proportion</th>\n",
       "      <th>cumulative</th>\n",
       "    </tr>\n",
       "  </thead>\n",
       "  <tbody>\n",
       "    <tr>\n",
       "      <th>0</th>\n",
       "      <td>B</td>\n",
       "      <td>0.467726</td>\n",
       "      <td>0.467726</td>\n",
       "    </tr>\n",
       "    <tr>\n",
       "      <th>1</th>\n",
       "      <td>M</td>\n",
       "      <td>0.341116</td>\n",
       "      <td>0.808842</td>\n",
       "    </tr>\n",
       "    <tr>\n",
       "      <th>2</th>\n",
       "      <td>C</td>\n",
       "      <td>0.104698</td>\n",
       "      <td>0.913539</td>\n",
       "    </tr>\n",
       "    <tr>\n",
       "      <th>3</th>\n",
       "      <td>L</td>\n",
       "      <td>0.064030</td>\n",
       "      <td>0.977569</td>\n",
       "    </tr>\n",
       "    <tr>\n",
       "      <th>4</th>\n",
       "      <td>P</td>\n",
       "      <td>0.022090</td>\n",
       "      <td>0.999659</td>\n",
       "    </tr>\n",
       "  </tbody>\n",
       "</table>\n",
       "</div>"
      ],
      "text/plain": [
       "  degree  proportion  cumulative\n",
       "0      B    0.467726    0.467726\n",
       "1      M    0.341116    0.808842\n",
       "2      C    0.104698    0.913539\n",
       "3      L    0.064030    0.977569\n",
       "4      P    0.022090    0.999659"
      ]
     },
     "execution_count": 423,
     "metadata": {},
     "output_type": "execute_result"
    }
   ],
   "source": [
    "results, categories = top_contributors(train_df, feature, 0.01)\n",
    "results"
   ]
  },
  {
   "cell_type": "code",
   "execution_count": 424,
   "metadata": {},
   "outputs": [
    {
     "data": {
      "image/png": "[encoded data removed]",
      "text/plain": [
       "<Figure size 800x400 with 3 Axes>"
      ]
     },
     "metadata": {},
     "output_type": "display_data"
    },
    {
     "name": "stdout",
     "output_type": "stream",
     "text": [
      "Feature: degree\n",
      "Chi-Square Statistic: 12266.16\n",
      "P-value: 0.0\n",
      "Cramér's V: 0.295\n"
     ]
    }
   ],
   "source": [
    "n_categories = len(categories)\n",
    "categorical_exploration(train_df, feature, \"depression\", n_categories)"
   ]
  },
  {
   "cell_type": "markdown",
   "metadata": {},
   "source": [
    "#### City"
   ]
  },
  {
   "cell_type": "code",
   "execution_count": 425,
   "metadata": {},
   "outputs": [],
   "source": [
    "feature = \"city\""
   ]
  },
  {
   "cell_type": "code",
   "execution_count": 426,
   "metadata": {},
   "outputs": [
    {
     "data": {
      "text/plain": [
       "city\n",
       "Kalyan         0.046844\n",
       "Patna          0.042104\n",
       "Vasai-Virar    0.040974\n",
       "Kolkata        0.040434\n",
       "Ahmedabad      0.039893\n",
       "                 ...   \n",
       "Shrey          0.000007\n",
       "Ivaan          0.000007\n",
       "Vaanya         0.000007\n",
       "Gaurav         0.000007\n",
       "Unirar         0.000007\n",
       "Name: proportion, Length: 98, dtype: float64"
      ]
     },
     "execution_count": 426,
     "metadata": {},
     "output_type": "execute_result"
    }
   ],
   "source": [
    "categories = train_df[feature].value_counts(normalize=True, dropna=False)\n",
    "categories"
   ]
  },
  {
   "cell_type": "code",
   "execution_count": 427,
   "metadata": {},
   "outputs": [
    {
     "data": {
      "text/html": [
       "<div>\n",
       "<style scoped>\n",
       "    .dataframe tbody tr th:only-of-type {\n",
       "        vertical-align: middle;\n",
       "    }\n",
       "\n",
       "    .dataframe tbody tr th {\n",
       "        vertical-align: top;\n",
       "    }\n",
       "\n",
       "    .dataframe thead th {\n",
       "        text-align: right;\n",
       "    }\n",
       "</style>\n",
       "<table border=\"1\" class=\"dataframe\">\n",
       "  <thead>\n",
       "    <tr style=\"text-align: right;\">\n",
       "      <th></th>\n",
       "      <th>city</th>\n",
       "      <th>proportion</th>\n",
       "      <th>cumulative</th>\n",
       "    </tr>\n",
       "  </thead>\n",
       "  <tbody>\n",
       "    <tr>\n",
       "      <th>0</th>\n",
       "      <td>Kalyan</td>\n",
       "      <td>0.046844</td>\n",
       "      <td>0.046844</td>\n",
       "    </tr>\n",
       "    <tr>\n",
       "      <th>1</th>\n",
       "      <td>Patna</td>\n",
       "      <td>0.042104</td>\n",
       "      <td>0.088948</td>\n",
       "    </tr>\n",
       "    <tr>\n",
       "      <th>2</th>\n",
       "      <td>Vasai-Virar</td>\n",
       "      <td>0.040974</td>\n",
       "      <td>0.129922</td>\n",
       "    </tr>\n",
       "    <tr>\n",
       "      <th>3</th>\n",
       "      <td>Kolkata</td>\n",
       "      <td>0.040434</td>\n",
       "      <td>0.170355</td>\n",
       "    </tr>\n",
       "    <tr>\n",
       "      <th>4</th>\n",
       "      <td>Ahmedabad</td>\n",
       "      <td>0.039893</td>\n",
       "      <td>0.210249</td>\n",
       "    </tr>\n",
       "    <tr>\n",
       "      <th>5</th>\n",
       "      <td>Meerut</td>\n",
       "      <td>0.039289</td>\n",
       "      <td>0.249538</td>\n",
       "    </tr>\n",
       "    <tr>\n",
       "      <th>6</th>\n",
       "      <td>Ludhiana</td>\n",
       "      <td>0.037143</td>\n",
       "      <td>0.286681</td>\n",
       "    </tr>\n",
       "    <tr>\n",
       "      <th>7</th>\n",
       "      <td>Pune</td>\n",
       "      <td>0.037029</td>\n",
       "      <td>0.323710</td>\n",
       "    </tr>\n",
       "    <tr>\n",
       "      <th>8</th>\n",
       "      <td>Rajkot</td>\n",
       "      <td>0.037008</td>\n",
       "      <td>0.360718</td>\n",
       "    </tr>\n",
       "    <tr>\n",
       "      <th>9</th>\n",
       "      <td>Visakhapatnam</td>\n",
       "      <td>0.036787</td>\n",
       "      <td>0.397505</td>\n",
       "    </tr>\n",
       "    <tr>\n",
       "      <th>10</th>\n",
       "      <td>Srinagar</td>\n",
       "      <td>0.036063</td>\n",
       "      <td>0.433568</td>\n",
       "    </tr>\n",
       "    <tr>\n",
       "      <th>11</th>\n",
       "      <td>Mumbai</td>\n",
       "      <td>0.035295</td>\n",
       "      <td>0.468863</td>\n",
       "    </tr>\n",
       "    <tr>\n",
       "      <th>12</th>\n",
       "      <td>Indore</td>\n",
       "      <td>0.034627</td>\n",
       "      <td>0.503490</td>\n",
       "    </tr>\n",
       "    <tr>\n",
       "      <th>13</th>\n",
       "      <td>Agra</td>\n",
       "      <td>0.033291</td>\n",
       "      <td>0.536780</td>\n",
       "    </tr>\n",
       "    <tr>\n",
       "      <th>14</th>\n",
       "      <td>Surat</td>\n",
       "      <td>0.032950</td>\n",
       "      <td>0.569730</td>\n",
       "    </tr>\n",
       "    <tr>\n",
       "      <th>15</th>\n",
       "      <td>Varanasi</td>\n",
       "      <td>0.032736</td>\n",
       "      <td>0.602466</td>\n",
       "    </tr>\n",
       "    <tr>\n",
       "      <th>16</th>\n",
       "      <td>Vadodara</td>\n",
       "      <td>0.032466</td>\n",
       "      <td>0.634932</td>\n",
       "    </tr>\n",
       "    <tr>\n",
       "      <th>17</th>\n",
       "      <td>Hyderabad</td>\n",
       "      <td>0.031955</td>\n",
       "      <td>0.666887</td>\n",
       "    </tr>\n",
       "    <tr>\n",
       "      <th>18</th>\n",
       "      <td>Kanpur</td>\n",
       "      <td>0.031258</td>\n",
       "      <td>0.698145</td>\n",
       "    </tr>\n",
       "    <tr>\n",
       "      <th>19</th>\n",
       "      <td>Jaipur</td>\n",
       "      <td>0.030760</td>\n",
       "      <td>0.728905</td>\n",
       "    </tr>\n",
       "    <tr>\n",
       "      <th>20</th>\n",
       "      <td>Thane</td>\n",
       "      <td>0.030483</td>\n",
       "      <td>0.759389</td>\n",
       "    </tr>\n",
       "    <tr>\n",
       "      <th>21</th>\n",
       "      <td>Lucknow</td>\n",
       "      <td>0.030419</td>\n",
       "      <td>0.789808</td>\n",
       "    </tr>\n",
       "    <tr>\n",
       "      <th>22</th>\n",
       "      <td>Nagpur</td>\n",
       "      <td>0.029915</td>\n",
       "      <td>0.819723</td>\n",
       "    </tr>\n",
       "    <tr>\n",
       "      <th>23</th>\n",
       "      <td>Bangalore</td>\n",
       "      <td>0.029303</td>\n",
       "      <td>0.849026</td>\n",
       "    </tr>\n",
       "    <tr>\n",
       "      <th>24</th>\n",
       "      <td>Chennai</td>\n",
       "      <td>0.028742</td>\n",
       "      <td>0.877768</td>\n",
       "    </tr>\n",
       "    <tr>\n",
       "      <th>25</th>\n",
       "      <td>Ghaziabad</td>\n",
       "      <td>0.025729</td>\n",
       "      <td>0.903497</td>\n",
       "    </tr>\n",
       "    <tr>\n",
       "      <th>26</th>\n",
       "      <td>Delhi</td>\n",
       "      <td>0.025537</td>\n",
       "      <td>0.929033</td>\n",
       "    </tr>\n",
       "    <tr>\n",
       "      <th>27</th>\n",
       "      <td>Bhopal</td>\n",
       "      <td>0.024698</td>\n",
       "      <td>0.953731</td>\n",
       "    </tr>\n",
       "    <tr>\n",
       "      <th>28</th>\n",
       "      <td>Faridabad</td>\n",
       "      <td>0.023227</td>\n",
       "      <td>0.976958</td>\n",
       "    </tr>\n",
       "    <tr>\n",
       "      <th>29</th>\n",
       "      <td>Nashik</td>\n",
       "      <td>0.022345</td>\n",
       "      <td>0.999303</td>\n",
       "    </tr>\n",
       "  </tbody>\n",
       "</table>\n",
       "</div>"
      ],
      "text/plain": [
       "             city  proportion  cumulative\n",
       "0          Kalyan    0.046844    0.046844\n",
       "1           Patna    0.042104    0.088948\n",
       "2     Vasai-Virar    0.040974    0.129922\n",
       "3         Kolkata    0.040434    0.170355\n",
       "4       Ahmedabad    0.039893    0.210249\n",
       "5          Meerut    0.039289    0.249538\n",
       "6        Ludhiana    0.037143    0.286681\n",
       "7            Pune    0.037029    0.323710\n",
       "8          Rajkot    0.037008    0.360718\n",
       "9   Visakhapatnam    0.036787    0.397505\n",
       "10       Srinagar    0.036063    0.433568\n",
       "11         Mumbai    0.035295    0.468863\n",
       "12         Indore    0.034627    0.503490\n",
       "13           Agra    0.033291    0.536780\n",
       "14          Surat    0.032950    0.569730\n",
       "15       Varanasi    0.032736    0.602466\n",
       "16       Vadodara    0.032466    0.634932\n",
       "17      Hyderabad    0.031955    0.666887\n",
       "18         Kanpur    0.031258    0.698145\n",
       "19         Jaipur    0.030760    0.728905\n",
       "20          Thane    0.030483    0.759389\n",
       "21        Lucknow    0.030419    0.789808\n",
       "22         Nagpur    0.029915    0.819723\n",
       "23      Bangalore    0.029303    0.849026\n",
       "24        Chennai    0.028742    0.877768\n",
       "25      Ghaziabad    0.025729    0.903497\n",
       "26          Delhi    0.025537    0.929033\n",
       "27         Bhopal    0.024698    0.953731\n",
       "28      Faridabad    0.023227    0.976958\n",
       "29         Nashik    0.022345    0.999303"
      ]
     },
     "execution_count": 427,
     "metadata": {},
     "output_type": "execute_result"
    }
   ],
   "source": [
    "results, categories = top_contributors(train_df, feature, 0.01)\n",
    "results"
   ]
  },
  {
   "cell_type": "code",
   "execution_count": 428,
   "metadata": {},
   "outputs": [
    {
     "data": {
      "image/png": "[encoded data removed]",
      "text/plain": [
       "<Figure size 800x400 with 3 Axes>"
      ]
     },
     "metadata": {},
     "output_type": "display_data"
    },
    {
     "name": "stdout",
     "output_type": "stream",
     "text": [
      "Feature: city\n",
      "Chi-Square Statistic: 1055.12\n",
      "P-value: 0.0\n",
      "Cramér's V: 0.087\n"
     ]
    }
   ],
   "source": [
    "n_categories = len(categories)\n",
    "categorical_exploration(train_df, feature, \"depression\", n_categories)"
   ]
  },
  {
   "cell_type": "markdown",
   "metadata": {},
   "source": [
    "#### Profession"
   ]
  },
  {
   "cell_type": "code",
   "execution_count": 429,
   "metadata": {},
   "outputs": [],
   "source": [
    "feature = \"profession\""
   ]
  },
  {
   "cell_type": "code",
   "execution_count": 430,
   "metadata": {},
   "outputs": [
    {
     "data": {
      "text/plain": [
       "profession\n",
       "NaN                  0.260341\n",
       "Teacher              0.177015\n",
       "Content Writer       0.055537\n",
       "Architect            0.031059\n",
       "Consultant           0.030057\n",
       "                       ...   \n",
       "Dev                  0.000007\n",
       "BE                   0.000007\n",
       "B.Com                0.000007\n",
       "Family Consultant    0.000007\n",
       "Yuvraj               0.000007\n",
       "Name: proportion, Length: 65, dtype: float64"
      ]
     },
     "execution_count": 430,
     "metadata": {},
     "output_type": "execute_result"
    }
   ],
   "source": [
    "categories = train_df[feature].value_counts(normalize=True, dropna=False)\n",
    "categories"
   ]
  },
  {
   "cell_type": "markdown",
   "metadata": {},
   "source": [
    "Infill the missing values with Student"
   ]
  },
  {
   "cell_type": "code",
   "execution_count": 431,
   "metadata": {},
   "outputs": [
    {
     "data": {
      "text/plain": [
       "profession\n",
       "Student              0.260391\n",
       "Teacher              0.177015\n",
       "Content Writer       0.055537\n",
       "Architect            0.031059\n",
       "Consultant           0.030057\n",
       "                       ...   \n",
       "Dev                  0.000007\n",
       "BE                   0.000007\n",
       "B.Com                0.000007\n",
       "Family Consultant    0.000007\n",
       "Yuvraj               0.000007\n",
       "Name: proportion, Length: 64, dtype: float64"
      ]
     },
     "execution_count": 431,
     "metadata": {},
     "output_type": "execute_result"
    }
   ],
   "source": [
    "train_df[feature] = train_df[feature].apply(lambda x: \"Student\" if pd.isna(x) else x)\n",
    "categories = train_df[feature].value_counts(normalize=True, dropna=False)\n",
    "categories"
   ]
  },
  {
   "cell_type": "code",
   "execution_count": 432,
   "metadata": {},
   "outputs": [
    {
     "data": {
      "text/html": [
       "<div>\n",
       "<style scoped>\n",
       "    .dataframe tbody tr th:only-of-type {\n",
       "        vertical-align: middle;\n",
       "    }\n",
       "\n",
       "    .dataframe tbody tr th {\n",
       "        vertical-align: top;\n",
       "    }\n",
       "\n",
       "    .dataframe thead th {\n",
       "        text-align: right;\n",
       "    }\n",
       "</style>\n",
       "<table border=\"1\" class=\"dataframe\">\n",
       "  <thead>\n",
       "    <tr style=\"text-align: right;\">\n",
       "      <th></th>\n",
       "      <th>profession</th>\n",
       "      <th>proportion</th>\n",
       "      <th>cumulative</th>\n",
       "    </tr>\n",
       "  </thead>\n",
       "  <tbody>\n",
       "    <tr>\n",
       "      <th>0</th>\n",
       "      <td>Student</td>\n",
       "      <td>0.260391</td>\n",
       "      <td>0.260391</td>\n",
       "    </tr>\n",
       "    <tr>\n",
       "      <th>1</th>\n",
       "      <td>Teacher</td>\n",
       "      <td>0.177015</td>\n",
       "      <td>0.437406</td>\n",
       "    </tr>\n",
       "    <tr>\n",
       "      <th>2</th>\n",
       "      <td>Content Writer</td>\n",
       "      <td>0.055537</td>\n",
       "      <td>0.492942</td>\n",
       "    </tr>\n",
       "    <tr>\n",
       "      <th>3</th>\n",
       "      <td>Architect</td>\n",
       "      <td>0.031059</td>\n",
       "      <td>0.524001</td>\n",
       "    </tr>\n",
       "    <tr>\n",
       "      <th>4</th>\n",
       "      <td>Consultant</td>\n",
       "      <td>0.030057</td>\n",
       "      <td>0.554058</td>\n",
       "    </tr>\n",
       "    <tr>\n",
       "      <th>5</th>\n",
       "      <td>HR Manager</td>\n",
       "      <td>0.028586</td>\n",
       "      <td>0.582644</td>\n",
       "    </tr>\n",
       "    <tr>\n",
       "      <th>6</th>\n",
       "      <td>Pharmacist</td>\n",
       "      <td>0.027669</td>\n",
       "      <td>0.610313</td>\n",
       "    </tr>\n",
       "    <tr>\n",
       "      <th>7</th>\n",
       "      <td>Doctor</td>\n",
       "      <td>0.023134</td>\n",
       "      <td>0.633447</td>\n",
       "    </tr>\n",
       "    <tr>\n",
       "      <th>8</th>\n",
       "      <td>Business Analyst</td>\n",
       "      <td>0.022466</td>\n",
       "      <td>0.655913</td>\n",
       "    </tr>\n",
       "    <tr>\n",
       "      <th>9</th>\n",
       "      <td>Entrepreneur</td>\n",
       "      <td>0.021095</td>\n",
       "      <td>0.677008</td>\n",
       "    </tr>\n",
       "    <tr>\n",
       "      <th>10</th>\n",
       "      <td>Chemist</td>\n",
       "      <td>0.021087</td>\n",
       "      <td>0.698095</td>\n",
       "    </tr>\n",
       "    <tr>\n",
       "      <th>11</th>\n",
       "      <td>Chef</td>\n",
       "      <td>0.020341</td>\n",
       "      <td>0.718436</td>\n",
       "    </tr>\n",
       "    <tr>\n",
       "      <th>12</th>\n",
       "      <td>Educational Consultant</td>\n",
       "      <td>0.020270</td>\n",
       "      <td>0.738706</td>\n",
       "    </tr>\n",
       "    <tr>\n",
       "      <th>13</th>\n",
       "      <td>Data Scientist</td>\n",
       "      <td>0.016986</td>\n",
       "      <td>0.755693</td>\n",
       "    </tr>\n",
       "    <tr>\n",
       "      <th>14</th>\n",
       "      <td>Researcher</td>\n",
       "      <td>0.016546</td>\n",
       "      <td>0.772239</td>\n",
       "    </tr>\n",
       "    <tr>\n",
       "      <th>15</th>\n",
       "      <td>Lawyer</td>\n",
       "      <td>0.015721</td>\n",
       "      <td>0.787960</td>\n",
       "    </tr>\n",
       "    <tr>\n",
       "      <th>16</th>\n",
       "      <td>Customer Support</td>\n",
       "      <td>0.014606</td>\n",
       "      <td>0.802566</td>\n",
       "    </tr>\n",
       "    <tr>\n",
       "      <th>17</th>\n",
       "      <td>Marketing Manager</td>\n",
       "      <td>0.014044</td>\n",
       "      <td>0.816610</td>\n",
       "    </tr>\n",
       "    <tr>\n",
       "      <th>18</th>\n",
       "      <td>Pilot</td>\n",
       "      <td>0.013596</td>\n",
       "      <td>0.830206</td>\n",
       "    </tr>\n",
       "    <tr>\n",
       "      <th>19</th>\n",
       "      <td>Travel Consultant</td>\n",
       "      <td>0.013220</td>\n",
       "      <td>0.843426</td>\n",
       "    </tr>\n",
       "    <tr>\n",
       "      <th>20</th>\n",
       "      <td>Plumber</td>\n",
       "      <td>0.012424</td>\n",
       "      <td>0.855849</td>\n",
       "    </tr>\n",
       "    <tr>\n",
       "      <th>21</th>\n",
       "      <td>Sales Executive</td>\n",
       "      <td>0.012360</td>\n",
       "      <td>0.868209</td>\n",
       "    </tr>\n",
       "    <tr>\n",
       "      <th>22</th>\n",
       "      <td>Manager</td>\n",
       "      <td>0.012345</td>\n",
       "      <td>0.880554</td>\n",
       "    </tr>\n",
       "    <tr>\n",
       "      <th>23</th>\n",
       "      <td>Judge</td>\n",
       "      <td>0.012168</td>\n",
       "      <td>0.892722</td>\n",
       "    </tr>\n",
       "    <tr>\n",
       "      <th>24</th>\n",
       "      <td>Electrician</td>\n",
       "      <td>0.011244</td>\n",
       "      <td>0.903966</td>\n",
       "    </tr>\n",
       "    <tr>\n",
       "      <th>25</th>\n",
       "      <td>Financial Analyst</td>\n",
       "      <td>0.011187</td>\n",
       "      <td>0.915153</td>\n",
       "    </tr>\n",
       "    <tr>\n",
       "      <th>26</th>\n",
       "      <td>Software Engineer</td>\n",
       "      <td>0.010732</td>\n",
       "      <td>0.925885</td>\n",
       "    </tr>\n",
       "    <tr>\n",
       "      <th>27</th>\n",
       "      <td>Civil Engineer</td>\n",
       "      <td>0.010448</td>\n",
       "      <td>0.936333</td>\n",
       "    </tr>\n",
       "    <tr>\n",
       "      <th>28</th>\n",
       "      <td>UX/UI Designer</td>\n",
       "      <td>0.010320</td>\n",
       "      <td>0.946652</td>\n",
       "    </tr>\n",
       "  </tbody>\n",
       "</table>\n",
       "</div>"
      ],
      "text/plain": [
       "                profession  proportion  cumulative\n",
       "0                  Student    0.260391    0.260391\n",
       "1                  Teacher    0.177015    0.437406\n",
       "2           Content Writer    0.055537    0.492942\n",
       "3                Architect    0.031059    0.524001\n",
       "4               Consultant    0.030057    0.554058\n",
       "5               HR Manager    0.028586    0.582644\n",
       "6               Pharmacist    0.027669    0.610313\n",
       "7                   Doctor    0.023134    0.633447\n",
       "8         Business Analyst    0.022466    0.655913\n",
       "9             Entrepreneur    0.021095    0.677008\n",
       "10                 Chemist    0.021087    0.698095\n",
       "11                    Chef    0.020341    0.718436\n",
       "12  Educational Consultant    0.020270    0.738706\n",
       "13          Data Scientist    0.016986    0.755693\n",
       "14              Researcher    0.016546    0.772239\n",
       "15                  Lawyer    0.015721    0.787960\n",
       "16        Customer Support    0.014606    0.802566\n",
       "17       Marketing Manager    0.014044    0.816610\n",
       "18                   Pilot    0.013596    0.830206\n",
       "19       Travel Consultant    0.013220    0.843426\n",
       "20                 Plumber    0.012424    0.855849\n",
       "21         Sales Executive    0.012360    0.868209\n",
       "22                 Manager    0.012345    0.880554\n",
       "23                   Judge    0.012168    0.892722\n",
       "24             Electrician    0.011244    0.903966\n",
       "25       Financial Analyst    0.011187    0.915153\n",
       "26       Software Engineer    0.010732    0.925885\n",
       "27          Civil Engineer    0.010448    0.936333\n",
       "28          UX/UI Designer    0.010320    0.946652"
      ]
     },
     "execution_count": 432,
     "metadata": {},
     "output_type": "execute_result"
    }
   ],
   "source": [
    "results, categories = top_contributors(train_df, feature, 0.01)\n",
    "results"
   ]
  },
  {
   "cell_type": "code",
   "execution_count": 433,
   "metadata": {},
   "outputs": [
    {
     "data": {
      "image/png": "[encoded data removed]",
      "text/plain": [
       "<Figure size 800x400 with 3 Axes>"
      ]
     },
     "metadata": {},
     "output_type": "display_data"
    },
    {
     "name": "stdout",
     "output_type": "stream",
     "text": [
      "Feature: profession\n",
      "Chi-Square Statistic: 40424.8\n",
      "P-value: 0.0\n",
      "Cramér's V: 0.551\n"
     ]
    }
   ],
   "source": [
    "n_categories = len(categories)\n",
    "categorical_exploration(train_df, feature, \"depression\", n_categories)"
   ]
  },
  {
   "cell_type": "markdown",
   "metadata": {},
   "source": [
    "## Numeric Feature Engineering"
   ]
  },
  {
   "cell_type": "code",
   "execution_count": 434,
   "metadata": {},
   "outputs": [
    {
     "data": {
      "text/html": [
       "<div>\n",
       "<style scoped>\n",
       "    .dataframe tbody tr th:only-of-type {\n",
       "        vertical-align: middle;\n",
       "    }\n",
       "\n",
       "    .dataframe tbody tr th {\n",
       "        vertical-align: top;\n",
       "    }\n",
       "\n",
       "    .dataframe thead th {\n",
       "        text-align: right;\n",
       "    }\n",
       "</style>\n",
       "<table border=\"1\" class=\"dataframe\">\n",
       "  <thead>\n",
       "    <tr style=\"text-align: right;\">\n",
       "      <th></th>\n",
       "      <th>age</th>\n",
       "      <th>academic pressure</th>\n",
       "      <th>work pressure</th>\n",
       "      <th>cgpa</th>\n",
       "      <th>study satisfaction</th>\n",
       "      <th>job satisfaction</th>\n",
       "      <th>work/study hours</th>\n",
       "      <th>financial stress</th>\n",
       "    </tr>\n",
       "  </thead>\n",
       "  <tbody>\n",
       "    <tr>\n",
       "      <th>count</th>\n",
       "      <td>140700.000000</td>\n",
       "      <td>27897.000000</td>\n",
       "      <td>112782.000000</td>\n",
       "      <td>27898.000000</td>\n",
       "      <td>27897.000000</td>\n",
       "      <td>112790.000000</td>\n",
       "      <td>140700.000000</td>\n",
       "      <td>140696.000000</td>\n",
       "    </tr>\n",
       "    <tr>\n",
       "      <th>mean</th>\n",
       "      <td>40.388621</td>\n",
       "      <td>3.142273</td>\n",
       "      <td>2.998998</td>\n",
       "      <td>7.658636</td>\n",
       "      <td>2.944940</td>\n",
       "      <td>2.974404</td>\n",
       "      <td>6.252679</td>\n",
       "      <td>2.988983</td>\n",
       "    </tr>\n",
       "    <tr>\n",
       "      <th>std</th>\n",
       "      <td>12.384099</td>\n",
       "      <td>1.380457</td>\n",
       "      <td>1.405771</td>\n",
       "      <td>1.464466</td>\n",
       "      <td>1.360197</td>\n",
       "      <td>1.416078</td>\n",
       "      <td>3.853615</td>\n",
       "      <td>1.413633</td>\n",
       "    </tr>\n",
       "    <tr>\n",
       "      <th>min</th>\n",
       "      <td>18.000000</td>\n",
       "      <td>1.000000</td>\n",
       "      <td>1.000000</td>\n",
       "      <td>5.030000</td>\n",
       "      <td>1.000000</td>\n",
       "      <td>1.000000</td>\n",
       "      <td>0.000000</td>\n",
       "      <td>1.000000</td>\n",
       "    </tr>\n",
       "    <tr>\n",
       "      <th>25%</th>\n",
       "      <td>29.000000</td>\n",
       "      <td>2.000000</td>\n",
       "      <td>2.000000</td>\n",
       "      <td>6.290000</td>\n",
       "      <td>2.000000</td>\n",
       "      <td>2.000000</td>\n",
       "      <td>3.000000</td>\n",
       "      <td>2.000000</td>\n",
       "    </tr>\n",
       "    <tr>\n",
       "      <th>50%</th>\n",
       "      <td>42.000000</td>\n",
       "      <td>3.000000</td>\n",
       "      <td>3.000000</td>\n",
       "      <td>7.770000</td>\n",
       "      <td>3.000000</td>\n",
       "      <td>3.000000</td>\n",
       "      <td>6.000000</td>\n",
       "      <td>3.000000</td>\n",
       "    </tr>\n",
       "    <tr>\n",
       "      <th>75%</th>\n",
       "      <td>51.000000</td>\n",
       "      <td>4.000000</td>\n",
       "      <td>4.000000</td>\n",
       "      <td>8.920000</td>\n",
       "      <td>4.000000</td>\n",
       "      <td>4.000000</td>\n",
       "      <td>10.000000</td>\n",
       "      <td>4.000000</td>\n",
       "    </tr>\n",
       "    <tr>\n",
       "      <th>max</th>\n",
       "      <td>60.000000</td>\n",
       "      <td>5.000000</td>\n",
       "      <td>5.000000</td>\n",
       "      <td>10.000000</td>\n",
       "      <td>5.000000</td>\n",
       "      <td>5.000000</td>\n",
       "      <td>12.000000</td>\n",
       "      <td>5.000000</td>\n",
       "    </tr>\n",
       "  </tbody>\n",
       "</table>\n",
       "</div>"
      ],
      "text/plain": [
       "                 age  academic pressure  work pressure          cgpa  \\\n",
       "count  140700.000000       27897.000000  112782.000000  27898.000000   \n",
       "mean       40.388621           3.142273       2.998998      7.658636   \n",
       "std        12.384099           1.380457       1.405771      1.464466   \n",
       "min        18.000000           1.000000       1.000000      5.030000   \n",
       "25%        29.000000           2.000000       2.000000      6.290000   \n",
       "50%        42.000000           3.000000       3.000000      7.770000   \n",
       "75%        51.000000           4.000000       4.000000      8.920000   \n",
       "max        60.000000           5.000000       5.000000     10.000000   \n",
       "\n",
       "       study satisfaction  job satisfaction  work/study hours  \\\n",
       "count        27897.000000     112790.000000     140700.000000   \n",
       "mean             2.944940          2.974404          6.252679   \n",
       "std              1.360197          1.416078          3.853615   \n",
       "min              1.000000          1.000000          0.000000   \n",
       "25%              2.000000          2.000000          3.000000   \n",
       "50%              3.000000          3.000000          6.000000   \n",
       "75%              4.000000          4.000000         10.000000   \n",
       "max              5.000000          5.000000         12.000000   \n",
       "\n",
       "       financial stress  \n",
       "count     140696.000000  \n",
       "mean           2.988983  \n",
       "std            1.413633  \n",
       "min            1.000000  \n",
       "25%            2.000000  \n",
       "50%            3.000000  \n",
       "75%            4.000000  \n",
       "max            5.000000  "
      ]
     },
     "execution_count": 434,
     "metadata": {},
     "output_type": "execute_result"
    }
   ],
   "source": [
    "train_df.select_dtypes(exclude=[\"object\"]).drop(\"depression\", axis=1).describe()"
   ]
  },
  {
   "cell_type": "code",
   "execution_count": 435,
   "metadata": {},
   "outputs": [
    {
     "data": {
      "text/plain": [
       "age                        0\n",
       "academic pressure     112803\n",
       "work pressure          27918\n",
       "cgpa                  112802\n",
       "study satisfaction    112803\n",
       "job satisfaction       27910\n",
       "work/study hours           0\n",
       "financial stress           4\n",
       "dtype: int64"
      ]
     },
     "execution_count": 435,
     "metadata": {},
     "output_type": "execute_result"
    }
   ],
   "source": [
    "train_df.select_dtypes(exclude=[\"object\"]).drop(\"depression\", axis=1).isnull().sum()"
   ]
  },
  {
   "cell_type": "markdown",
   "metadata": {},
   "source": [
    "#### Satisfaction (job / study)"
   ]
  },
  {
   "cell_type": "code",
   "execution_count": 436,
   "metadata": {},
   "outputs": [
    {
     "data": {
      "image/png": "[encoded data removed]",
      "text/plain": [
       "<Figure size 800x400 with 3 Axes>"
      ]
     },
     "metadata": {},
     "output_type": "display_data"
    },
    {
     "name": "stdout",
     "output_type": "stream",
     "text": [
      "Feature: job satisfaction\n",
      "Chi-Square Statistic: 3898.85\n",
      "P-value: 0.0\n",
      "Cramér's V: 0.186\n"
     ]
    },
    {
     "data": {
      "image/png": "[encoded data removed]",
      "text/plain": [
       "<Figure size 800x400 with 3 Axes>"
      ]
     },
     "metadata": {},
     "output_type": "display_data"
    },
    {
     "name": "stdout",
     "output_type": "stream",
     "text": [
      "Feature: study satisfaction\n",
      "Chi-Square Statistic: 793.06\n",
      "P-value: 0.0\n",
      "Cramér's V: 0.169\n"
     ]
    }
   ],
   "source": [
    "categorical_exploration(train_df.sort_values(\"job satisfaction\"), \"job satisfaction\", \"depression\", 100)\n",
    "categorical_exploration(train_df.sort_values(\"study satisfaction\"), \"study satisfaction\", \"depression\", 100)"
   ]
  },
  {
   "cell_type": "markdown",
   "metadata": {},
   "source": [
    "create a combined satisfaction column"
   ]
  },
  {
   "cell_type": "code",
   "execution_count": 437,
   "metadata": {},
   "outputs": [],
   "source": [
    "train_df[\"satisfaction\"] = np.floor(train_df[[\"study satisfaction\", \"job satisfaction\"]].mean(axis=1))"
   ]
  },
  {
   "cell_type": "code",
   "execution_count": 438,
   "metadata": {},
   "outputs": [
    {
     "data": {
      "image/png": "[encoded data removed]",
      "text/plain": [
       "<Figure size 800x400 with 3 Axes>"
      ]
     },
     "metadata": {},
     "output_type": "display_data"
    },
    {
     "name": "stdout",
     "output_type": "stream",
     "text": [
      "Feature: satisfaction\n",
      "Chi-Square Statistic: 3058.91\n",
      "P-value: 0.0\n",
      "Cramér's V: 0.147\n"
     ]
    }
   ],
   "source": [
    "categorical_exploration(train_df.sort_values(\"satisfaction\"), \"satisfaction\", \"depression\", 100)"
   ]
  },
  {
   "cell_type": "markdown",
   "metadata": {},
   "source": [
    "#### Pressure (academic / work)"
   ]
  },
  {
   "cell_type": "code",
   "execution_count": 439,
   "metadata": {},
   "outputs": [
    {
     "data": {
      "image/png": "[encoded data removed]",
      "text/plain": [
       "<Figure size 800x400 with 3 Axes>"
      ]
     },
     "metadata": {},
     "output_type": "display_data"
    },
    {
     "name": "stdout",
     "output_type": "stream",
     "text": [
      "Feature: academic pressure\n",
      "Chi-Square Statistic: 6426.01\n",
      "P-value: 0.0\n",
      "Cramér's V: 0.48\n"
     ]
    },
    {
     "data": {
      "image/png": "[encoded data removed]",
      "text/plain": [
       "<Figure size 800x400 with 3 Axes>"
      ]
     },
     "metadata": {},
     "output_type": "display_data"
    },
    {
     "name": "stdout",
     "output_type": "stream",
     "text": [
      "Feature: work pressure\n",
      "Chi-Square Statistic: 6088.28\n",
      "P-value: 0.0\n",
      "Cramér's V: 0.232\n"
     ]
    }
   ],
   "source": [
    "categorical_exploration(train_df.sort_values(\"academic pressure\"), \"academic pressure\", \"depression\", 100)\n",
    "categorical_exploration(train_df.sort_values(\"work pressure\"), \"work pressure\", \"depression\", 100)"
   ]
  },
  {
   "cell_type": "code",
   "execution_count": 440,
   "metadata": {},
   "outputs": [],
   "source": [
    "train_df[\"pressure\"] = np.floor(train_df[[\"academic pressure\", \"work pressure\"]].mean(axis=1))"
   ]
  },
  {
   "cell_type": "code",
   "execution_count": 441,
   "metadata": {},
   "outputs": [
    {
     "data": {
      "image/png": "[encoded data removed]",
      "text/plain": [
       "<Figure size 800x400 with 3 Axes>"
      ]
     },
     "metadata": {},
     "output_type": "display_data"
    },
    {
     "name": "stdout",
     "output_type": "stream",
     "text": [
      "Feature: pressure\n",
      "Chi-Square Statistic: 10159.71\n",
      "P-value: 0.0\n",
      "Cramér's V: 0.269\n"
     ]
    }
   ],
   "source": [
    "categorical_exploration(train_df.sort_values(\"pressure\"), \"pressure\", \"depression\", 100)"
   ]
  },
  {
   "cell_type": "markdown",
   "metadata": {},
   "source": [
    "#### Work / Study Hours"
   ]
  },
  {
   "cell_type": "code",
   "execution_count": 442,
   "metadata": {},
   "outputs": [],
   "source": [
    "feature = \"work/study hours\""
   ]
  },
  {
   "cell_type": "code",
   "execution_count": 443,
   "metadata": {},
   "outputs": [
    {
     "name": "stdout",
     "output_type": "stream",
     "text": [
      "Statistic: -78.07473109210305, p-value: 0.0\n",
      "Statistic: 1049243087.0, p-value: 0.0\n",
      "Statistic: 0.22517890968776993, p-value: 0.0\n",
      "Correlation: 0.191746195662048, p-value: 0.0\n"
     ]
    },
    {
     "data": {
      "image/png": "[encoded data removed]",
      "text/plain": [
       "<Figure size 640x480 with 1 Axes>"
      ]
     },
     "metadata": {},
     "output_type": "display_data"
    }
   ],
   "source": [
    "numeric_exploration(train_df, feature, label)"
   ]
  },
  {
   "cell_type": "markdown",
   "metadata": {},
   "source": [
    "#### Age"
   ]
  },
  {
   "cell_type": "code",
   "execution_count": 444,
   "metadata": {},
   "outputs": [],
   "source": [
    "feature = \"age\""
   ]
  },
  {
   "cell_type": "code",
   "execution_count": 445,
   "metadata": {},
   "outputs": [
    {
     "name": "stdout",
     "output_type": "stream",
     "text": [
      "Statistic: 350.6592437828074, p-value: 0.0\n",
      "Statistic: 2663774674.5, p-value: 0.0\n",
      "Statistic: 0.7315115765697986, p-value: 0.0\n",
      "Correlation: -0.5646712107170868, p-value: 0.0\n"
     ]
    },
    {
     "data": {
      "image/png": "[encoded data removed]",
      "text/plain": [
       "<Figure size 640x480 with 1 Axes>"
      ]
     },
     "metadata": {},
     "output_type": "display_data"
    }
   ],
   "source": [
    "numeric_exploration(train_df, feature, label)"
   ]
  },
  {
   "cell_type": "markdown",
   "metadata": {},
   "source": [
    "#### Financial Stress"
   ]
  },
  {
   "cell_type": "code",
   "execution_count": 446,
   "metadata": {},
   "outputs": [],
   "source": [
    "feature = \"financial stress\""
   ]
  },
  {
   "cell_type": "code",
   "execution_count": 447,
   "metadata": {},
   "outputs": [
    {
     "name": "stdout",
     "output_type": "stream",
     "text": [
      "Statistic: nan, p-value: nan\n",
      "Statistic: nan, p-value: nan\n",
      "Statistic: nan, p-value: nan\n",
      "Correlation: nan, p-value: nan\n"
     ]
    },
    {
     "data": {
      "image/png": "[encoded data removed]",
      "text/plain": [
       "<Figure size 640x480 with 1 Axes>"
      ]
     },
     "metadata": {},
     "output_type": "display_data"
    }
   ],
   "source": [
    "numeric_exploration(train_df, feature, label)"
   ]
  },
  {
   "cell_type": "code",
   "execution_count": 448,
   "metadata": {},
   "outputs": [
    {
     "data": {
      "text/plain": [
       "<Axes: >"
      ]
     },
     "execution_count": 448,
     "metadata": {},
     "output_type": "execute_result"
    },
    {
     "data": {
      "image/png": "[encoded data removed]",
      "text/plain": [
       "<Figure size 640x480 with 2 Axes>"
      ]
     },
     "metadata": {},
     "output_type": "display_data"
    }
   ],
   "source": [
    "subset = train_df[[\"age\", \"pressure\", \"satisfaction\", \"work/study hours\", \"financial stress\", \"depression\"]]\n",
    "sns.heatmap(data=subset.corr(), cmap=\"coolwarm\", annot=True)"
   ]
  },
  {
   "cell_type": "code",
   "execution_count": 449,
   "metadata": {},
   "outputs": [],
   "source": [
    "# sns.pairplot(data=subset.sample(frac=0.1, replace=False), hue=\"depression\")"
   ]
  },
  {
   "cell_type": "markdown",
   "metadata": {},
   "source": [
    "## Modelling"
   ]
  },
  {
   "cell_type": "markdown",
   "metadata": {},
   "source": [
    "### Data Categories"
   ]
  },
  {
   "cell_type": "code",
   "execution_count": 450,
   "metadata": {},
   "outputs": [],
   "source": [
    "ordinal_dict = {\n",
    "    \"dietary habits\" : [\"Unhealthy\", \"Moderate\", \"Healthy\", \"Unknown\"],\n",
    "    \"sleep duration\" : [\"Less than 5 hours\", \"5-6 hours\", \"7-8 hours\", \"More than 8 hours\", \"Unknown\"],\n",
    "    \"degree\" : [\"C\", \"B\", \"M\", \"L\", \"P\", \"Unknown\"],\n",
    "}\n",
    "\n",
    "# one hot encoding list\n",
    "ohe_list = [\"gender\", \"professional or student\", \"family history\", \"suicidal thoughts\"]\n",
    "\n",
    "# ordinal encoding list\n",
    "ord_list = list(ordinal_dict.keys())\n",
    "\n",
    "# numeric list\n",
    "num_list = [\"work/study hours\", \"age\", \"satisfaction\", \"pressure\", \"financial stress\"]"
   ]
  },
  {
   "cell_type": "markdown",
   "metadata": {},
   "source": [
    "### Data Preparation"
   ]
  },
  {
   "cell_type": "code",
   "execution_count": 451,
   "metadata": {},
   "outputs": [],
   "source": [
    "def preprocessing(df, ord_dict, rename_dict):\n",
    "    df.rename(columns=rename_dict, inplace=True)\n",
    "    df.columns = [col.lower() for col in df.columns]\n",
    "    df[\"pressure\"] = np.floor(df[[\"academic pressure\", \"work pressure\"]].mean(axis=1))\n",
    "    df[\"pressure\"] = df[\"pressure\"].apply(lambda x: x if x > 0 else 0)\n",
    "    \n",
    "    df[\"satisfaction\"] = np.floor(df[[\"study satisfaction\", \"job satisfaction\"]].mean(axis=1))\n",
    "    df[\"satisfaction\"] = df[\"satisfaction\"].apply(lambda x: x if x > 0 else 0)\n",
    "    \n",
    "    df[\"financial stress\"] = df[\"financial stress\"].apply(lambda x: x if x > 0 else 0)\n",
    "    \n",
    "    \n",
    "    df.drop([\"academic pressure\", \"work pressure\", \"study satisfaction\", \"job satisfaction\"], axis=1, inplace=True)\n",
    "    \n",
    "    df[\"degree\"] = df[\"degree\"].apply(lambda x: x[:1] if isinstance(x, str) else \"Unknown\")\n",
    "    for feature, vals in ord_dict.items():\n",
    "        df[feature] = df[feature].apply(lambda x: x if x in vals else \"Unknown\")\n",
    "    return df"
   ]
  },
  {
   "cell_type": "markdown",
   "metadata": {},
   "source": [
    "### Data Preprocessing"
   ]
  },
  {
   "cell_type": "code",
   "execution_count": 452,
   "metadata": {},
   "outputs": [],
   "source": [
    "numeric_preprocess = Pipeline(steps=[\n",
    "    ('imputer', SimpleImputer(strategy='mean')),  \n",
    "    ('scaler', StandardScaler()) \n",
    "])\n",
    "\n",
    "categorical_preprocess = Pipeline(steps=[\n",
    "    ('imputer', SimpleImputer(strategy='most_frequent')), \n",
    "    ('ohe', OneHotEncoder(drop=\"first\")) \n",
    "])\n",
    "\n",
    "ordinal_preprocess = Pipeline(steps=[\n",
    "    ('imputer', SimpleImputer(strategy='most_frequent')), \n",
    "    ('oe', OrdinalEncoder(categories=[val for val in ordinal_dict.values()])) \n",
    "])\n",
    "\n",
    "preprocessor = ColumnTransformer(\n",
    "    transformers=[\n",
    "        ('num', numeric_preprocess, num_list),\n",
    "        ('cat', categorical_preprocess, ohe_list),\n",
    "        ('ord', ordinal_preprocess, ord_list),\n",
    "    ]\n",
    ")"
   ]
  },
  {
   "cell_type": "code",
   "execution_count": 453,
   "metadata": {},
   "outputs": [],
   "source": [
    "X = train_df.drop(\"depression\", axis=1)#[ohe_list+ord_list+num_list]#+lab_list]\n",
    "y = train_df[\"depression\"]\n",
    "\n",
    "X_train, X_test, y_train, y_test = train_test_split(X, y, test_size=0.2, stratify=y, random_state=42)"
   ]
  },
  {
   "cell_type": "code",
   "execution_count": 454,
   "metadata": {},
   "outputs": [
    {
     "name": "stdout",
     "output_type": "stream",
     "text": [
      "[LightGBM] [Info] Number of positive: 20454, number of negative: 92106\n",
      "[LightGBM] [Info] Auto-choosing row-wise multi-threading, the overhead of testing was 0.002024 seconds.\n",
      "You can set `force_row_wise=true` to remove the overhead.\n",
      "And if memory is not enough, you can set `force_col_wise=true`.\n",
      "[LightGBM] [Info] Total Bins 100\n",
      "[LightGBM] [Info] Number of data points in the train set: 112560, number of used features: 12\n",
      "[LightGBM] [Info] [binary:BoostFromScore]: pavg=0.181716 -> initscore=-1.504762\n",
      "[LightGBM] [Info] Start training from score -1.504762\n"
     ]
    },
    {
     "data": {
      "text/html": [
       "<style>#sk-container-id-4 {\n",
       "  /* Definition of color scheme common for light and dark mode */\n",
       "  --sklearn-color-text: black;\n",
       "  --sklearn-color-line: gray;\n",
       "  /* Definition of color scheme for unfitted estimators */\n",
       "  --sklearn-color-unfitted-level-0: #fff5e6;\n",
       "  --sklearn-color-unfitted-level-1: #f6e4d2;\n",
       "  --sklearn-color-unfitted-level-2: #ffe0b3;\n",
       "  --sklearn-color-unfitted-level-3: chocolate;\n",
       "  /* Definition of color scheme for fitted estimators */\n",
       "  --sklearn-color-fitted-level-0: #f0f8ff;\n",
       "  --sklearn-color-fitted-level-1: #d4ebff;\n",
       "  --sklearn-color-fitted-level-2: #b3dbfd;\n",
       "  --sklearn-color-fitted-level-3: cornflowerblue;\n",
       "\n",
       "  /* Specific color for light theme */\n",
       "  --sklearn-color-text-on-default-background: var(--sg-text-color, var(--theme-code-foreground, var(--jp-content-font-color1, black)));\n",
       "  --sklearn-color-background: var(--sg-background-color, var(--theme-background, var(--jp-layout-color0, white)));\n",
       "  --sklearn-color-border-box: var(--sg-text-color, var(--theme-code-foreground, var(--jp-content-font-color1, black)));\n",
       "  --sklearn-color-icon: #696969;\n",
       "\n",
       "  @media (prefers-color-scheme: dark) {\n",
       "    /* Redefinition of color scheme for dark theme */\n",
       "    --sklearn-color-text-on-default-background: var(--sg-text-color, var(--theme-code-foreground, var(--jp-content-font-color1, white)));\n",
       "    --sklearn-color-background: var(--sg-background-color, var(--theme-background, var(--jp-layout-color0, #111)));\n",
       "    --sklearn-color-border-box: var(--sg-text-color, var(--theme-code-foreground, var(--jp-content-font-color1, white)));\n",
       "    --sklearn-color-icon: #878787;\n",
       "  }\n",
       "}\n",
       "\n",
       "#sk-container-id-4 {\n",
       "  color: var(--sklearn-color-text);\n",
       "}\n",
       "\n",
       "#sk-container-id-4 pre {\n",
       "  padding: 0;\n",
       "}\n",
       "\n",
       "#sk-container-id-4 input.sk-hidden--visually {\n",
       "  border: 0;\n",
       "  clip: rect(1px 1px 1px 1px);\n",
       "  clip: rect(1px, 1px, 1px, 1px);\n",
       "  height: 1px;\n",
       "  margin: -1px;\n",
       "  overflow: hidden;\n",
       "  padding: 0;\n",
       "  position: absolute;\n",
       "  width: 1px;\n",
       "}\n",
       "\n",
       "#sk-container-id-4 div.sk-dashed-wrapped {\n",
       "  border: 1px dashed var(--sklearn-color-line);\n",
       "  margin: 0 0.4em 0.5em 0.4em;\n",
       "  box-sizing: border-box;\n",
       "  padding-bottom: 0.4em;\n",
       "  background-color: var(--sklearn-color-background);\n",
       "}\n",
       "\n",
       "#sk-container-id-4 div.sk-container {\n",
       "  /* jupyter's `normalize.less` sets `[hidden] { display: none; }`\n",
       "     but bootstrap.min.css set `[hidden] { display: none !important; }`\n",
       "     so we also need the `!important` here to be able to override the\n",
       "     default hidden behavior on the sphinx rendered scikit-learn.org.\n",
       "     See: https://github.com/scikit-learn/scikit-learn/issues/21755 */\n",
       "  display: inline-block !important;\n",
       "  position: relative;\n",
       "}\n",
       "\n",
       "#sk-container-id-4 div.sk-text-repr-fallback {\n",
       "  display: none;\n",
       "}\n",
       "\n",
       "div.sk-parallel-item,\n",
       "div.sk-serial,\n",
       "div.sk-item {\n",
       "  /* draw centered vertical line to link estimators */\n",
       "  background-image: linear-gradient(var(--sklearn-color-text-on-default-background), var(--sklearn-color-text-on-default-background));\n",
       "  background-size: 2px 100%;\n",
       "  background-repeat: no-repeat;\n",
       "  background-position: center center;\n",
       "}\n",
       "\n",
       "/* Parallel-specific style estimator block */\n",
       "\n",
       "#sk-container-id-4 div.sk-parallel-item::after {\n",
       "  content: \"\";\n",
       "  width: 100%;\n",
       "  border-bottom: 2px solid var(--sklearn-color-text-on-default-background);\n",
       "  flex-grow: 1;\n",
       "}\n",
       "\n",
       "#sk-container-id-4 div.sk-parallel {\n",
       "  display: flex;\n",
       "  align-items: stretch;\n",
       "  justify-content: center;\n",
       "  background-color: var(--sklearn-color-background);\n",
       "  position: relative;\n",
       "}\n",
       "\n",
       "#sk-container-id-4 div.sk-parallel-item {\n",
       "  display: flex;\n",
       "  flex-direction: column;\n",
       "}\n",
       "\n",
       "#sk-container-id-4 div.sk-parallel-item:first-child::after {\n",
       "  align-self: flex-end;\n",
       "  width: 50%;\n",
       "}\n",
       "\n",
       "#sk-container-id-4 div.sk-parallel-item:last-child::after {\n",
       "  align-self: flex-start;\n",
       "  width: 50%;\n",
       "}\n",
       "\n",
       "#sk-container-id-4 div.sk-parallel-item:only-child::after {\n",
       "  width: 0;\n",
       "}\n",
       "\n",
       "/* Serial-specific style estimator block */\n",
       "\n",
       "#sk-container-id-4 div.sk-serial {\n",
       "  display: flex;\n",
       "  flex-direction: column;\n",
       "  align-items: center;\n",
       "  background-color: var(--sklearn-color-background);\n",
       "  padding-right: 1em;\n",
       "  padding-left: 1em;\n",
       "}\n",
       "\n",
       "\n",
       "/* Toggleable style: style used for estimator/Pipeline/ColumnTransformer box that is\n",
       "clickable and can be expanded/collapsed.\n",
       "- Pipeline and ColumnTransformer use this feature and define the default style\n",
       "- Estimators will overwrite some part of the style using the `sk-estimator` class\n",
       "*/\n",
       "\n",
       "/* Pipeline and ColumnTransformer style (default) */\n",
       "\n",
       "#sk-container-id-4 div.sk-toggleable {\n",
       "  /* Default theme specific background. It is overwritten whether we have a\n",
       "  specific estimator or a Pipeline/ColumnTransformer */\n",
       "  background-color: var(--sklearn-color-background);\n",
       "}\n",
       "\n",
       "/* Toggleable label */\n",
       "#sk-container-id-4 label.sk-toggleable__label {\n",
       "  cursor: pointer;\n",
       "  display: block;\n",
       "  width: 100%;\n",
       "  margin-bottom: 0;\n",
       "  padding: 0.5em;\n",
       "  box-sizing: border-box;\n",
       "  text-align: center;\n",
       "}\n",
       "\n",
       "#sk-container-id-4 label.sk-toggleable__label-arrow:before {\n",
       "  /* Arrow on the left of the label */\n",
       "  content: \"▸\";\n",
       "  float: left;\n",
       "  margin-right: 0.25em;\n",
       "  color: var(--sklearn-color-icon);\n",
       "}\n",
       "\n",
       "#sk-container-id-4 label.sk-toggleable__label-arrow:hover:before {\n",
       "  color: var(--sklearn-color-text);\n",
       "}\n",
       "\n",
       "/* Toggleable content - dropdown */\n",
       "\n",
       "#sk-container-id-4 div.sk-toggleable__content {\n",
       "  max-height: 0;\n",
       "  max-width: 0;\n",
       "  overflow: hidden;\n",
       "  text-align: left;\n",
       "  /* unfitted */\n",
       "  background-color: var(--sklearn-color-unfitted-level-0);\n",
       "}\n",
       "\n",
       "#sk-container-id-4 div.sk-toggleable__content.fitted {\n",
       "  /* fitted */\n",
       "  background-color: var(--sklearn-color-fitted-level-0);\n",
       "}\n",
       "\n",
       "#sk-container-id-4 div.sk-toggleable__content pre {\n",
       "  margin: 0.2em;\n",
       "  border-radius: 0.25em;\n",
       "  color: var(--sklearn-color-text);\n",
       "  /* unfitted */\n",
       "  background-color: var(--sklearn-color-unfitted-level-0);\n",
       "}\n",
       "\n",
       "#sk-container-id-4 div.sk-toggleable__content.fitted pre {\n",
       "  /* unfitted */\n",
       "  background-color: var(--sklearn-color-fitted-level-0);\n",
       "}\n",
       "\n",
       "#sk-container-id-4 input.sk-toggleable__control:checked~div.sk-toggleable__content {\n",
       "  /* Expand drop-down */\n",
       "  max-height: 200px;\n",
       "  max-width: 100%;\n",
       "  overflow: auto;\n",
       "}\n",
       "\n",
       "#sk-container-id-4 input.sk-toggleable__control:checked~label.sk-toggleable__label-arrow:before {\n",
       "  content: \"▾\";\n",
       "}\n",
       "\n",
       "/* Pipeline/ColumnTransformer-specific style */\n",
       "\n",
       "#sk-container-id-4 div.sk-label input.sk-toggleable__control:checked~label.sk-toggleable__label {\n",
       "  color: var(--sklearn-color-text);\n",
       "  background-color: var(--sklearn-color-unfitted-level-2);\n",
       "}\n",
       "\n",
       "#sk-container-id-4 div.sk-label.fitted input.sk-toggleable__control:checked~label.sk-toggleable__label {\n",
       "  background-color: var(--sklearn-color-fitted-level-2);\n",
       "}\n",
       "\n",
       "/* Estimator-specific style */\n",
       "\n",
       "/* Colorize estimator box */\n",
       "#sk-container-id-4 div.sk-estimator input.sk-toggleable__control:checked~label.sk-toggleable__label {\n",
       "  /* unfitted */\n",
       "  background-color: var(--sklearn-color-unfitted-level-2);\n",
       "}\n",
       "\n",
       "#sk-container-id-4 div.sk-estimator.fitted input.sk-toggleable__control:checked~label.sk-toggleable__label {\n",
       "  /* fitted */\n",
       "  background-color: var(--sklearn-color-fitted-level-2);\n",
       "}\n",
       "\n",
       "#sk-container-id-4 div.sk-label label.sk-toggleable__label,\n",
       "#sk-container-id-4 div.sk-label label {\n",
       "  /* The background is the default theme color */\n",
       "  color: var(--sklearn-color-text-on-default-background);\n",
       "}\n",
       "\n",
       "/* On hover, darken the color of the background */\n",
       "#sk-container-id-4 div.sk-label:hover label.sk-toggleable__label {\n",
       "  color: var(--sklearn-color-text);\n",
       "  background-color: var(--sklearn-color-unfitted-level-2);\n",
       "}\n",
       "\n",
       "/* Label box, darken color on hover, fitted */\n",
       "#sk-container-id-4 div.sk-label.fitted:hover label.sk-toggleable__label.fitted {\n",
       "  color: var(--sklearn-color-text);\n",
       "  background-color: var(--sklearn-color-fitted-level-2);\n",
       "}\n",
       "\n",
       "/* Estimator label */\n",
       "\n",
       "#sk-container-id-4 div.sk-label label {\n",
       "  font-family: monospace;\n",
       "  font-weight: bold;\n",
       "  display: inline-block;\n",
       "  line-height: 1.2em;\n",
       "}\n",
       "\n",
       "#sk-container-id-4 div.sk-label-container {\n",
       "  text-align: center;\n",
       "}\n",
       "\n",
       "/* Estimator-specific */\n",
       "#sk-container-id-4 div.sk-estimator {\n",
       "  font-family: monospace;\n",
       "  border: 1px dotted var(--sklearn-color-border-box);\n",
       "  border-radius: 0.25em;\n",
       "  box-sizing: border-box;\n",
       "  margin-bottom: 0.5em;\n",
       "  /* unfitted */\n",
       "  background-color: var(--sklearn-color-unfitted-level-0);\n",
       "}\n",
       "\n",
       "#sk-container-id-4 div.sk-estimator.fitted {\n",
       "  /* fitted */\n",
       "  background-color: var(--sklearn-color-fitted-level-0);\n",
       "}\n",
       "\n",
       "/* on hover */\n",
       "#sk-container-id-4 div.sk-estimator:hover {\n",
       "  /* unfitted */\n",
       "  background-color: var(--sklearn-color-unfitted-level-2);\n",
       "}\n",
       "\n",
       "#sk-container-id-4 div.sk-estimator.fitted:hover {\n",
       "  /* fitted */\n",
       "  background-color: var(--sklearn-color-fitted-level-2);\n",
       "}\n",
       "\n",
       "/* Specification for estimator info (e.g. \"i\" and \"?\") */\n",
       "\n",
       "/* Common style for \"i\" and \"?\" */\n",
       "\n",
       ".sk-estimator-doc-link,\n",
       "a:link.sk-estimator-doc-link,\n",
       "a:visited.sk-estimator-doc-link {\n",
       "  float: right;\n",
       "  font-size: smaller;\n",
       "  line-height: 1em;\n",
       "  font-family: monospace;\n",
       "  background-color: var(--sklearn-color-background);\n",
       "  border-radius: 1em;\n",
       "  height: 1em;\n",
       "  width: 1em;\n",
       "  text-decoration: none !important;\n",
       "  margin-left: 1ex;\n",
       "  /* unfitted */\n",
       "  border: var(--sklearn-color-unfitted-level-1) 1pt solid;\n",
       "  color: var(--sklearn-color-unfitted-level-1);\n",
       "}\n",
       "\n",
       ".sk-estimator-doc-link.fitted,\n",
       "a:link.sk-estimator-doc-link.fitted,\n",
       "a:visited.sk-estimator-doc-link.fitted {\n",
       "  /* fitted */\n",
       "  border: var(--sklearn-color-fitted-level-1) 1pt solid;\n",
       "  color: var(--sklearn-color-fitted-level-1);\n",
       "}\n",
       "\n",
       "/* On hover */\n",
       "div.sk-estimator:hover .sk-estimator-doc-link:hover,\n",
       ".sk-estimator-doc-link:hover,\n",
       "div.sk-label-container:hover .sk-estimator-doc-link:hover,\n",
       ".sk-estimator-doc-link:hover {\n",
       "  /* unfitted */\n",
       "  background-color: var(--sklearn-color-unfitted-level-3);\n",
       "  color: var(--sklearn-color-background);\n",
       "  text-decoration: none;\n",
       "}\n",
       "\n",
       "div.sk-estimator.fitted:hover .sk-estimator-doc-link.fitted:hover,\n",
       ".sk-estimator-doc-link.fitted:hover,\n",
       "div.sk-label-container:hover .sk-estimator-doc-link.fitted:hover,\n",
       ".sk-estimator-doc-link.fitted:hover {\n",
       "  /* fitted */\n",
       "  background-color: var(--sklearn-color-fitted-level-3);\n",
       "  color: var(--sklearn-color-background);\n",
       "  text-decoration: none;\n",
       "}\n",
       "\n",
       "/* Span, style for the box shown on hovering the info icon */\n",
       ".sk-estimator-doc-link span {\n",
       "  display: none;\n",
       "  z-index: 9999;\n",
       "  position: relative;\n",
       "  font-weight: normal;\n",
       "  right: .2ex;\n",
       "  padding: .5ex;\n",
       "  margin: .5ex;\n",
       "  width: min-content;\n",
       "  min-width: 20ex;\n",
       "  max-width: 50ex;\n",
       "  color: var(--sklearn-color-text);\n",
       "  box-shadow: 2pt 2pt 4pt #999;\n",
       "  /* unfitted */\n",
       "  background: var(--sklearn-color-unfitted-level-0);\n",
       "  border: .5pt solid var(--sklearn-color-unfitted-level-3);\n",
       "}\n",
       "\n",
       ".sk-estimator-doc-link.fitted span {\n",
       "  /* fitted */\n",
       "  background: var(--sklearn-color-fitted-level-0);\n",
       "  border: var(--sklearn-color-fitted-level-3);\n",
       "}\n",
       "\n",
       ".sk-estimator-doc-link:hover span {\n",
       "  display: block;\n",
       "}\n",
       "\n",
       "/* \"?\"-specific style due to the `<a>` HTML tag */\n",
       "\n",
       "#sk-container-id-4 a.estimator_doc_link {\n",
       "  float: right;\n",
       "  font-size: 1rem;\n",
       "  line-height: 1em;\n",
       "  font-family: monospace;\n",
       "  background-color: var(--sklearn-color-background);\n",
       "  border-radius: 1rem;\n",
       "  height: 1rem;\n",
       "  width: 1rem;\n",
       "  text-decoration: none;\n",
       "  /* unfitted */\n",
       "  color: var(--sklearn-color-unfitted-level-1);\n",
       "  border: var(--sklearn-color-unfitted-level-1) 1pt solid;\n",
       "}\n",
       "\n",
       "#sk-container-id-4 a.estimator_doc_link.fitted {\n",
       "  /* fitted */\n",
       "  border: var(--sklearn-color-fitted-level-1) 1pt solid;\n",
       "  color: var(--sklearn-color-fitted-level-1);\n",
       "}\n",
       "\n",
       "/* On hover */\n",
       "#sk-container-id-4 a.estimator_doc_link:hover {\n",
       "  /* unfitted */\n",
       "  background-color: var(--sklearn-color-unfitted-level-3);\n",
       "  color: var(--sklearn-color-background);\n",
       "  text-decoration: none;\n",
       "}\n",
       "\n",
       "#sk-container-id-4 a.estimator_doc_link.fitted:hover {\n",
       "  /* fitted */\n",
       "  background-color: var(--sklearn-color-fitted-level-3);\n",
       "}\n",
       "</style><div id=\"sk-container-id-4\" class=\"sk-top-container\"><div class=\"sk-text-repr-fallback\"><pre>Pipeline(steps=[(&#x27;preprocessing&#x27;,\n",
       "                 ColumnTransformer(transformers=[(&#x27;num&#x27;,\n",
       "                                                  Pipeline(steps=[(&#x27;imputer&#x27;,\n",
       "                                                                   SimpleImputer()),\n",
       "                                                                  (&#x27;scaler&#x27;,\n",
       "                                                                   StandardScaler())]),\n",
       "                                                  [&#x27;work/study hours&#x27;, &#x27;age&#x27;,\n",
       "                                                   &#x27;satisfaction&#x27;, &#x27;pressure&#x27;,\n",
       "                                                   &#x27;financial stress&#x27;]),\n",
       "                                                 (&#x27;cat&#x27;,\n",
       "                                                  Pipeline(steps=[(&#x27;imputer&#x27;,\n",
       "                                                                   SimpleImputer(strategy=&#x27;most_frequent&#x27;)),\n",
       "                                                                  (&#x27;ohe&#x27;,\n",
       "                                                                   OneHotEncoder(drop=&#x27;first&#x27;))]),\n",
       "                                                  [&#x27;gender&#x27;,\n",
       "                                                   &#x27;professio...\n",
       "                                                 (&#x27;ord&#x27;,\n",
       "                                                  Pipeline(steps=[(&#x27;imputer&#x27;,\n",
       "                                                                   SimpleImputer(strategy=&#x27;most_frequent&#x27;)),\n",
       "                                                                  (&#x27;oe&#x27;,\n",
       "                                                                   OrdinalEncoder(categories=[[&#x27;Unhealthy&#x27;,\n",
       "                                                                                               &#x27;Moderate&#x27;,\n",
       "                                                                                               &#x27;Healthy&#x27;,\n",
       "                                                                                               &#x27;Unknown&#x27;],\n",
       "                                                                                              [&#x27;Less &#x27;\n",
       "                                                                                               &#x27;than &#x27;\n",
       "                                                                                               &#x27;5 &#x27;\n",
       "                                                                                               &#x27;hours&#x27;,\n",
       "                                                                                               &#x27;5-6 &#x27;\n",
       "                                                                                               &#x27;hours&#x27;,\n",
       "                                                                                               &#x27;7-8 &#x27;\n",
       "                                                                                               &#x27;hours&#x27;,\n",
       "                                                                                               &#x27;More &#x27;\n",
       "                                                                                               &#x27;than &#x27;\n",
       "                                                                                               &#x27;8 &#x27;\n",
       "                                                                                               &#x27;hours&#x27;,\n",
       "                                                                                               &#x27;Unknown&#x27;],\n",
       "                                                                                              [&#x27;C&#x27;,\n",
       "                                                                                               &#x27;B&#x27;,\n",
       "                                                                                               &#x27;M&#x27;,\n",
       "                                                                                               &#x27;L&#x27;,\n",
       "                                                                                               &#x27;P&#x27;,\n",
       "                                                                                               &#x27;Unknown&#x27;]]))]),\n",
       "                                                  [&#x27;dietary habits&#x27;,\n",
       "                                                   &#x27;sleep duration&#x27;,\n",
       "                                                   &#x27;degree&#x27;])])),\n",
       "                (&#x27;classifier&#x27;, LGBMClassifier())])</pre><b>In a Jupyter environment, please rerun this cell to show the HTML representation or trust the notebook. <br />On GitHub, the HTML representation is unable to render, please try loading this page with nbviewer.org.</b></div><div class=\"sk-container\" hidden><div class=\"sk-item sk-dashed-wrapped\"><div class=\"sk-label-container\"><div class=\"sk-label fitted sk-toggleable\"><input class=\"sk-toggleable__control sk-hidden--visually\" id=\"sk-estimator-id-39\" type=\"checkbox\" ><label for=\"sk-estimator-id-39\" class=\"sk-toggleable__label fitted sk-toggleable__label-arrow fitted\">&nbsp;&nbsp;Pipeline<a class=\"sk-estimator-doc-link fitted\" rel=\"noreferrer\" target=\"_blank\" href=\"https://scikit-learn.org/1.5/modules/generated/sklearn.pipeline.Pipeline.html\">?<span>Documentation for Pipeline</span></a><span class=\"sk-estimator-doc-link fitted\">i<span>Fitted</span></span></label><div class=\"sk-toggleable__content fitted\"><pre>Pipeline(steps=[(&#x27;preprocessing&#x27;,\n",
       "                 ColumnTransformer(transformers=[(&#x27;num&#x27;,\n",
       "                                                  Pipeline(steps=[(&#x27;imputer&#x27;,\n",
       "                                                                   SimpleImputer()),\n",
       "                                                                  (&#x27;scaler&#x27;,\n",
       "                                                                   StandardScaler())]),\n",
       "                                                  [&#x27;work/study hours&#x27;, &#x27;age&#x27;,\n",
       "                                                   &#x27;satisfaction&#x27;, &#x27;pressure&#x27;,\n",
       "                                                   &#x27;financial stress&#x27;]),\n",
       "                                                 (&#x27;cat&#x27;,\n",
       "                                                  Pipeline(steps=[(&#x27;imputer&#x27;,\n",
       "                                                                   SimpleImputer(strategy=&#x27;most_frequent&#x27;)),\n",
       "                                                                  (&#x27;ohe&#x27;,\n",
       "                                                                   OneHotEncoder(drop=&#x27;first&#x27;))]),\n",
       "                                                  [&#x27;gender&#x27;,\n",
       "                                                   &#x27;professio...\n",
       "                                                 (&#x27;ord&#x27;,\n",
       "                                                  Pipeline(steps=[(&#x27;imputer&#x27;,\n",
       "                                                                   SimpleImputer(strategy=&#x27;most_frequent&#x27;)),\n",
       "                                                                  (&#x27;oe&#x27;,\n",
       "                                                                   OrdinalEncoder(categories=[[&#x27;Unhealthy&#x27;,\n",
       "                                                                                               &#x27;Moderate&#x27;,\n",
       "                                                                                               &#x27;Healthy&#x27;,\n",
       "                                                                                               &#x27;Unknown&#x27;],\n",
       "                                                                                              [&#x27;Less &#x27;\n",
       "                                                                                               &#x27;than &#x27;\n",
       "                                                                                               &#x27;5 &#x27;\n",
       "                                                                                               &#x27;hours&#x27;,\n",
       "                                                                                               &#x27;5-6 &#x27;\n",
       "                                                                                               &#x27;hours&#x27;,\n",
       "                                                                                               &#x27;7-8 &#x27;\n",
       "                                                                                               &#x27;hours&#x27;,\n",
       "                                                                                               &#x27;More &#x27;\n",
       "                                                                                               &#x27;than &#x27;\n",
       "                                                                                               &#x27;8 &#x27;\n",
       "                                                                                               &#x27;hours&#x27;,\n",
       "                                                                                               &#x27;Unknown&#x27;],\n",
       "                                                                                              [&#x27;C&#x27;,\n",
       "                                                                                               &#x27;B&#x27;,\n",
       "                                                                                               &#x27;M&#x27;,\n",
       "                                                                                               &#x27;L&#x27;,\n",
       "                                                                                               &#x27;P&#x27;,\n",
       "                                                                                               &#x27;Unknown&#x27;]]))]),\n",
       "                                                  [&#x27;dietary habits&#x27;,\n",
       "                                                   &#x27;sleep duration&#x27;,\n",
       "                                                   &#x27;degree&#x27;])])),\n",
       "                (&#x27;classifier&#x27;, LGBMClassifier())])</pre></div> </div></div><div class=\"sk-serial\"><div class=\"sk-item sk-dashed-wrapped\"><div class=\"sk-label-container\"><div class=\"sk-label fitted sk-toggleable\"><input class=\"sk-toggleable__control sk-hidden--visually\" id=\"sk-estimator-id-40\" type=\"checkbox\" ><label for=\"sk-estimator-id-40\" class=\"sk-toggleable__label fitted sk-toggleable__label-arrow fitted\">&nbsp;preprocessing: ColumnTransformer<a class=\"sk-estimator-doc-link fitted\" rel=\"noreferrer\" target=\"_blank\" href=\"https://scikit-learn.org/1.5/modules/generated/sklearn.compose.ColumnTransformer.html\">?<span>Documentation for preprocessing: ColumnTransformer</span></a></label><div class=\"sk-toggleable__content fitted\"><pre>ColumnTransformer(transformers=[(&#x27;num&#x27;,\n",
       "                                 Pipeline(steps=[(&#x27;imputer&#x27;, SimpleImputer()),\n",
       "                                                 (&#x27;scaler&#x27;, StandardScaler())]),\n",
       "                                 [&#x27;work/study hours&#x27;, &#x27;age&#x27;, &#x27;satisfaction&#x27;,\n",
       "                                  &#x27;pressure&#x27;, &#x27;financial stress&#x27;]),\n",
       "                                (&#x27;cat&#x27;,\n",
       "                                 Pipeline(steps=[(&#x27;imputer&#x27;,\n",
       "                                                  SimpleImputer(strategy=&#x27;most_frequent&#x27;)),\n",
       "                                                 (&#x27;ohe&#x27;,\n",
       "                                                  OneHotEncoder(drop=&#x27;first&#x27;))]),\n",
       "                                 [&#x27;gender&#x27;, &#x27;professional or student&#x27;,\n",
       "                                  &#x27;family history&#x27;, &#x27;suicidal thoughts&#x27;]),\n",
       "                                (&#x27;ord&#x27;,\n",
       "                                 Pipeline(steps=[(&#x27;imputer&#x27;,\n",
       "                                                  SimpleImputer(strategy=&#x27;most_frequent&#x27;)),\n",
       "                                                 (&#x27;oe&#x27;,\n",
       "                                                  OrdinalEncoder(categories=[[&#x27;Unhealthy&#x27;,\n",
       "                                                                              &#x27;Moderate&#x27;,\n",
       "                                                                              &#x27;Healthy&#x27;,\n",
       "                                                                              &#x27;Unknown&#x27;],\n",
       "                                                                             [&#x27;Less &#x27;\n",
       "                                                                              &#x27;than &#x27;\n",
       "                                                                              &#x27;5 &#x27;\n",
       "                                                                              &#x27;hours&#x27;,\n",
       "                                                                              &#x27;5-6 &#x27;\n",
       "                                                                              &#x27;hours&#x27;,\n",
       "                                                                              &#x27;7-8 &#x27;\n",
       "                                                                              &#x27;hours&#x27;,\n",
       "                                                                              &#x27;More &#x27;\n",
       "                                                                              &#x27;than &#x27;\n",
       "                                                                              &#x27;8 &#x27;\n",
       "                                                                              &#x27;hours&#x27;,\n",
       "                                                                              &#x27;Unknown&#x27;],\n",
       "                                                                             [&#x27;C&#x27;,\n",
       "                                                                              &#x27;B&#x27;,\n",
       "                                                                              &#x27;M&#x27;,\n",
       "                                                                              &#x27;L&#x27;,\n",
       "                                                                              &#x27;P&#x27;,\n",
       "                                                                              &#x27;Unknown&#x27;]]))]),\n",
       "                                 [&#x27;dietary habits&#x27;, &#x27;sleep duration&#x27;,\n",
       "                                  &#x27;degree&#x27;])])</pre></div> </div></div><div class=\"sk-parallel\"><div class=\"sk-parallel-item\"><div class=\"sk-item\"><div class=\"sk-label-container\"><div class=\"sk-label fitted sk-toggleable\"><input class=\"sk-toggleable__control sk-hidden--visually\" id=\"sk-estimator-id-41\" type=\"checkbox\" ><label for=\"sk-estimator-id-41\" class=\"sk-toggleable__label fitted sk-toggleable__label-arrow fitted\">num</label><div class=\"sk-toggleable__content fitted\"><pre>[&#x27;work/study hours&#x27;, &#x27;age&#x27;, &#x27;satisfaction&#x27;, &#x27;pressure&#x27;, &#x27;financial stress&#x27;]</pre></div> </div></div><div class=\"sk-serial\"><div class=\"sk-item\"><div class=\"sk-serial\"><div class=\"sk-item\"><div class=\"sk-estimator fitted sk-toggleable\"><input class=\"sk-toggleable__control sk-hidden--visually\" id=\"sk-estimator-id-42\" type=\"checkbox\" ><label for=\"sk-estimator-id-42\" class=\"sk-toggleable__label fitted sk-toggleable__label-arrow fitted\">&nbsp;SimpleImputer<a class=\"sk-estimator-doc-link fitted\" rel=\"noreferrer\" target=\"_blank\" href=\"https://scikit-learn.org/1.5/modules/generated/sklearn.impute.SimpleImputer.html\">?<span>Documentation for SimpleImputer</span></a></label><div class=\"sk-toggleable__content fitted\"><pre>SimpleImputer()</pre></div> </div></div><div class=\"sk-item\"><div class=\"sk-estimator fitted sk-toggleable\"><input class=\"sk-toggleable__control sk-hidden--visually\" id=\"sk-estimator-id-43\" type=\"checkbox\" ><label for=\"sk-estimator-id-43\" class=\"sk-toggleable__label fitted sk-toggleable__label-arrow fitted\">&nbsp;StandardScaler<a class=\"sk-estimator-doc-link fitted\" rel=\"noreferrer\" target=\"_blank\" href=\"https://scikit-learn.org/1.5/modules/generated/sklearn.preprocessing.StandardScaler.html\">?<span>Documentation for StandardScaler</span></a></label><div class=\"sk-toggleable__content fitted\"><pre>StandardScaler()</pre></div> </div></div></div></div></div></div></div><div class=\"sk-parallel-item\"><div class=\"sk-item\"><div class=\"sk-label-container\"><div class=\"sk-label fitted sk-toggleable\"><input class=\"sk-toggleable__control sk-hidden--visually\" id=\"sk-estimator-id-44\" type=\"checkbox\" ><label for=\"sk-estimator-id-44\" class=\"sk-toggleable__label fitted sk-toggleable__label-arrow fitted\">cat</label><div class=\"sk-toggleable__content fitted\"><pre>[&#x27;gender&#x27;, &#x27;professional or student&#x27;, &#x27;family history&#x27;, &#x27;suicidal thoughts&#x27;]</pre></div> </div></div><div class=\"sk-serial\"><div class=\"sk-item\"><div class=\"sk-serial\"><div class=\"sk-item\"><div class=\"sk-estimator fitted sk-toggleable\"><input class=\"sk-toggleable__control sk-hidden--visually\" id=\"sk-estimator-id-45\" type=\"checkbox\" ><label for=\"sk-estimator-id-45\" class=\"sk-toggleable__label fitted sk-toggleable__label-arrow fitted\">&nbsp;SimpleImputer<a class=\"sk-estimator-doc-link fitted\" rel=\"noreferrer\" target=\"_blank\" href=\"https://scikit-learn.org/1.5/modules/generated/sklearn.impute.SimpleImputer.html\">?<span>Documentation for SimpleImputer</span></a></label><div class=\"sk-toggleable__content fitted\"><pre>SimpleImputer(strategy=&#x27;most_frequent&#x27;)</pre></div> </div></div><div class=\"sk-item\"><div class=\"sk-estimator fitted sk-toggleable\"><input class=\"sk-toggleable__control sk-hidden--visually\" id=\"sk-estimator-id-46\" type=\"checkbox\" ><label for=\"sk-estimator-id-46\" class=\"sk-toggleable__label fitted sk-toggleable__label-arrow fitted\">&nbsp;OneHotEncoder<a class=\"sk-estimator-doc-link fitted\" rel=\"noreferrer\" target=\"_blank\" href=\"https://scikit-learn.org/1.5/modules/generated/sklearn.preprocessing.OneHotEncoder.html\">?<span>Documentation for OneHotEncoder</span></a></label><div class=\"sk-toggleable__content fitted\"><pre>OneHotEncoder(drop=&#x27;first&#x27;)</pre></div> </div></div></div></div></div></div></div><div class=\"sk-parallel-item\"><div class=\"sk-item\"><div class=\"sk-label-container\"><div class=\"sk-label fitted sk-toggleable\"><input class=\"sk-toggleable__control sk-hidden--visually\" id=\"sk-estimator-id-47\" type=\"checkbox\" ><label for=\"sk-estimator-id-47\" class=\"sk-toggleable__label fitted sk-toggleable__label-arrow fitted\">ord</label><div class=\"sk-toggleable__content fitted\"><pre>[&#x27;dietary habits&#x27;, &#x27;sleep duration&#x27;, &#x27;degree&#x27;]</pre></div> </div></div><div class=\"sk-serial\"><div class=\"sk-item\"><div class=\"sk-serial\"><div class=\"sk-item\"><div class=\"sk-estimator fitted sk-toggleable\"><input class=\"sk-toggleable__control sk-hidden--visually\" id=\"sk-estimator-id-48\" type=\"checkbox\" ><label for=\"sk-estimator-id-48\" class=\"sk-toggleable__label fitted sk-toggleable__label-arrow fitted\">&nbsp;SimpleImputer<a class=\"sk-estimator-doc-link fitted\" rel=\"noreferrer\" target=\"_blank\" href=\"https://scikit-learn.org/1.5/modules/generated/sklearn.impute.SimpleImputer.html\">?<span>Documentation for SimpleImputer</span></a></label><div class=\"sk-toggleable__content fitted\"><pre>SimpleImputer(strategy=&#x27;most_frequent&#x27;)</pre></div> </div></div><div class=\"sk-item\"><div class=\"sk-estimator fitted sk-toggleable\"><input class=\"sk-toggleable__control sk-hidden--visually\" id=\"sk-estimator-id-49\" type=\"checkbox\" ><label for=\"sk-estimator-id-49\" class=\"sk-toggleable__label fitted sk-toggleable__label-arrow fitted\">&nbsp;OrdinalEncoder<a class=\"sk-estimator-doc-link fitted\" rel=\"noreferrer\" target=\"_blank\" href=\"https://scikit-learn.org/1.5/modules/generated/sklearn.preprocessing.OrdinalEncoder.html\">?<span>Documentation for OrdinalEncoder</span></a></label><div class=\"sk-toggleable__content fitted\"><pre>OrdinalEncoder(categories=[[&#x27;Unhealthy&#x27;, &#x27;Moderate&#x27;, &#x27;Healthy&#x27;, &#x27;Unknown&#x27;],\n",
       "                           [&#x27;Less than 5 hours&#x27;, &#x27;5-6 hours&#x27;, &#x27;7-8 hours&#x27;,\n",
       "                            &#x27;More than 8 hours&#x27;, &#x27;Unknown&#x27;],\n",
       "                           [&#x27;C&#x27;, &#x27;B&#x27;, &#x27;M&#x27;, &#x27;L&#x27;, &#x27;P&#x27;, &#x27;Unknown&#x27;]])</pre></div> </div></div></div></div></div></div></div></div></div><div class=\"sk-item\"><div class=\"sk-estimator fitted sk-toggleable\"><input class=\"sk-toggleable__control sk-hidden--visually\" id=\"sk-estimator-id-50\" type=\"checkbox\" ><label for=\"sk-estimator-id-50\" class=\"sk-toggleable__label fitted sk-toggleable__label-arrow fitted\">LGBMClassifier</label><div class=\"sk-toggleable__content fitted\"><pre>LGBMClassifier()</pre></div> </div></div></div></div></div></div>"
      ],
      "text/plain": [
       "Pipeline(steps=[('preprocessing',\n",
       "                 ColumnTransformer(transformers=[('num',\n",
       "                                                  Pipeline(steps=[('imputer',\n",
       "                                                                   SimpleImputer()),\n",
       "                                                                  ('scaler',\n",
       "                                                                   StandardScaler())]),\n",
       "                                                  ['work/study hours', 'age',\n",
       "                                                   'satisfaction', 'pressure',\n",
       "                                                   'financial stress']),\n",
       "                                                 ('cat',\n",
       "                                                  Pipeline(steps=[('imputer',\n",
       "                                                                   SimpleImputer(strategy='most_frequent')),\n",
       "                                                                  ('ohe',\n",
       "                                                                   OneHotEncoder(drop='first'))]),\n",
       "                                                  ['gender',\n",
       "                                                   'professio...\n",
       "                                                 ('ord',\n",
       "                                                  Pipeline(steps=[('imputer',\n",
       "                                                                   SimpleImputer(strategy='most_frequent')),\n",
       "                                                                  ('oe',\n",
       "                                                                   OrdinalEncoder(categories=[['Unhealthy',\n",
       "                                                                                               'Moderate',\n",
       "                                                                                               'Healthy',\n",
       "                                                                                               'Unknown'],\n",
       "                                                                                              ['Less '\n",
       "                                                                                               'than '\n",
       "                                                                                               '5 '\n",
       "                                                                                               'hours',\n",
       "                                                                                               '5-6 '\n",
       "                                                                                               'hours',\n",
       "                                                                                               '7-8 '\n",
       "                                                                                               'hours',\n",
       "                                                                                               'More '\n",
       "                                                                                               'than '\n",
       "                                                                                               '8 '\n",
       "                                                                                               'hours',\n",
       "                                                                                               'Unknown'],\n",
       "                                                                                              ['C',\n",
       "                                                                                               'B',\n",
       "                                                                                               'M',\n",
       "                                                                                               'L',\n",
       "                                                                                               'P',\n",
       "                                                                                               'Unknown']]))]),\n",
       "                                                  ['dietary habits',\n",
       "                                                   'sleep duration',\n",
       "                                                   'degree'])])),\n",
       "                ('classifier', LGBMClassifier())])"
      ]
     },
     "execution_count": 454,
     "metadata": {},
     "output_type": "execute_result"
    }
   ],
   "source": [
    "model = pipeline = Pipeline([\n",
    "    ('preprocessing', preprocessor),\n",
    "    ('classifier', LGBMClassifier())\n",
    "])\n",
    "\n",
    "model.fit(X_train, y_train)"
   ]
  },
  {
   "cell_type": "code",
   "execution_count": 455,
   "metadata": {},
   "outputs": [
    {
     "data": {
      "text/plain": [
       "0.9376687988628287"
      ]
     },
     "execution_count": 455,
     "metadata": {},
     "output_type": "execute_result"
    }
   ],
   "source": [
    "model.score(X_test, y_test)"
   ]
  },
  {
   "cell_type": "code",
   "execution_count": 456,
   "metadata": {},
   "outputs": [],
   "source": [
    "test_df = pd.read_csv(\"./data/test.csv\")\n",
    "test_df = preprocessing(test_df, ordinal_dict, rename_dict)"
   ]
  },
  {
   "cell_type": "code",
   "execution_count": 457,
   "metadata": {},
   "outputs": [
    {
     "data": {
      "text/html": [
       "<div>\n",
       "<style scoped>\n",
       "    .dataframe tbody tr th:only-of-type {\n",
       "        vertical-align: middle;\n",
       "    }\n",
       "\n",
       "    .dataframe tbody tr th {\n",
       "        vertical-align: top;\n",
       "    }\n",
       "\n",
       "    .dataframe thead th {\n",
       "        text-align: right;\n",
       "    }\n",
       "</style>\n",
       "<table border=\"1\" class=\"dataframe\">\n",
       "  <thead>\n",
       "    <tr style=\"text-align: right;\">\n",
       "      <th></th>\n",
       "      <th>id</th>\n",
       "      <th>Depression</th>\n",
       "    </tr>\n",
       "  </thead>\n",
       "  <tbody>\n",
       "    <tr>\n",
       "      <th>0</th>\n",
       "      <td>140700</td>\n",
       "      <td>0</td>\n",
       "    </tr>\n",
       "    <tr>\n",
       "      <th>1</th>\n",
       "      <td>140701</td>\n",
       "      <td>0</td>\n",
       "    </tr>\n",
       "    <tr>\n",
       "      <th>2</th>\n",
       "      <td>140702</td>\n",
       "      <td>0</td>\n",
       "    </tr>\n",
       "    <tr>\n",
       "      <th>3</th>\n",
       "      <td>140703</td>\n",
       "      <td>1</td>\n",
       "    </tr>\n",
       "    <tr>\n",
       "      <th>4</th>\n",
       "      <td>140704</td>\n",
       "      <td>0</td>\n",
       "    </tr>\n",
       "  </tbody>\n",
       "</table>\n",
       "</div>"
      ],
      "text/plain": [
       "       id  Depression\n",
       "0  140700           0\n",
       "1  140701           0\n",
       "2  140702           0\n",
       "3  140703           1\n",
       "4  140704           0"
      ]
     },
     "execution_count": 457,
     "metadata": {},
     "output_type": "execute_result"
    }
   ],
   "source": [
    "submission = pd.DataFrame(\n",
    "    {\n",
    "        \"id\": test_df[\"id\"].values,\n",
    "        \"Depression\": model.predict(test_df),\n",
    "     }\n",
    ")\n",
    "\n",
    "submission.head()"
   ]
  }
 ],
 "metadata": {
  "kernelspec": {
   "display_name": ".venv",
   "language": "python",
   "name": "python3"
  },
  "language_info": {
   "codemirror_mode": {
    "name": "ipython",
    "version": 3
   },
   "file_extension": ".py",
   "mimetype": "text/x-python",
   "name": "python",
   "nbconvert_exporter": "python",
   "pygments_lexer": "ipython3",
   "version": "3.12.2"
  }
 },
 "nbformat": 4,
 "nbformat_minor": 2
}
