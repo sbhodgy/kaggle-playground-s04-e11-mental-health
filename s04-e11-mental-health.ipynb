{
 "cells": [
  {
   "cell_type": "markdown",
   "metadata": {},
   "source": [
    "# Kaggle Playground Series - Exploring Mental Health Data\n",
    "\n",
    "This is a simplified notebook for the following competition:\n",
    "\n",
    "[Kaggle Playground Series - s04-e11](https://www.kaggle.com/competitions/playground-series-s4e11/overview)"
   ]
  },
  {
   "cell_type": "markdown",
   "metadata": {},
   "source": [
    "## Configuration"
   ]
  },
  {
   "cell_type": "code",
   "execution_count": 400,
   "metadata": {},
   "outputs": [],
   "source": [
    "import pandas as pd\n",
    "import os\n",
    "import zipfile\n",
    "import matplotlib.pyplot as plt\n",
    "import numpy as np\n",
    "import seaborn as sns\n",
    "\n",
    "from kaggle import KaggleApi\n",
    "\n",
    "from scipy.stats import chi2_contingency, randint, ttest_ind, mannwhitneyu, ks_2samp, pointbiserialr\n",
    "from statsmodels.graphics.mosaicplot import mosaic\n",
    "\n",
    "from sklearn.preprocessing import StandardScaler, OneHotEncoder, OrdinalEncoder\n",
    "from sklearn.impute import SimpleImputer\n",
    "from sklearn.pipeline import Pipeline\n",
    "from sklearn.compose import ColumnTransformer\n",
    "from sklearn.model_selection import RandomizedSearchCV\n",
    "from sklearn.model_selection import train_test_split\n",
    "\n",
    "from lightgbm import LGBMClassifier\n"
   ]
  },
  {
   "cell_type": "markdown",
   "metadata": {},
   "source": [
    "### Helper Functions"
   ]
  },
  {
   "cell_type": "code",
   "execution_count": 401,
   "metadata": {},
   "outputs": [],
   "source": [
    "def kaggle_download(competition_name, output_dir):\n",
    "    api = KaggleApi()\n",
    "    api.authenticate()\n",
    "    os.makedirs(output_dir, exist_ok=True)\n",
    "    api.competition_download_files(competition_name, path=output_dir)\n",
    "    zip_path = os.path.join(output_dir, f\"{competition_name}.zip\")\n",
    "    if os.path.exists(zip_path):\n",
    "        with zipfile.ZipFile(zip_path, 'r') as zip_ref:\n",
    "            zip_ref.extractall(output_dir)\n",
    "        print(f\"Extracted all files to '{output_dir}'\")\n",
    "        os.remove(zip_path)\n",
    "    else:\n",
    "        print(f\"No zip file found at '{zip_path}'\")\n",
    "\n",
    "def categorical_tests(df, feature, label):\n",
    "    cont_table = pd.crosstab(df[feature], df[label])\n",
    "    chi2, p, _, _ = chi2_contingency(cont_table)\n",
    "    n = cont_table.values.sum()\n",
    "    cramers_v = np.sqrt(chi2 / (n * (min(cont_table.shape) - 1)))\n",
    "    print(f\"Feature: {feature}\")\n",
    "    print(f\"Chi-Square Statistic: {round(chi2, 2)}\")\n",
    "    print(f\"P-value: {round(p, 10)}\")\n",
    "    print(f\"Cramér's V: {round(cramers_v, 3)}\")\n",
    "\n",
    "def categorical_exploration(df, feature, label, n):\n",
    "    top_cats = df[feature].value_counts().index[:n]\n",
    "    top = df[df[feature].isin(top_cats)]\n",
    "    _, ax = plt.subplots(figsize=(8, 4))\n",
    "    mosaic(top, [feature, label], ax=ax)\n",
    "    plt.xlabel(feature)\n",
    "    plt.show()\n",
    "    categorical_tests(top, feature, label)\n",
    "\n",
    "def top_contributors(df, feature, prop):\n",
    "    categories = df[feature].value_counts(normalize=True, dropna=False).to_frame().reset_index()\n",
    "    categories[\"cumulative\"] = categories[\"proportion\"].cumsum()\n",
    "    categories = categories[categories[\"proportion\"] >= prop]\n",
    "    return categories, categories[feature].to_list()\n",
    "\n",
    "def numeric_exploration(df, feature, label):\n",
    "    sns.boxenplot(data=df, x=label, y=feature)\n",
    "    group0 = df[df[label] == 0][feature]\n",
    "    group1 = df[df[label] == 1][feature]\n",
    "    stat, p_value = ttest_ind(group0, group1, equal_var=False)\n",
    "    print(f\"Statistic: {stat}, p-value: {p_value}\")\n",
    "    stat, p_value = mannwhitneyu(group0, group1, alternative='two-sided')\n",
    "    print(f\"Statistic: {stat}, p-value: {p_value}\")\n",
    "    stat, p_value = ks_2samp(group0, group1)\n",
    "    print(f\"Statistic: {stat}, p-value: {p_value}\")\n",
    "    correlation, p_value = pointbiserialr(df[feature], df[label])\n",
    "    print(f\"Correlation: {correlation}, p-value: {p_value}\")"
   ]
  },
  {
   "cell_type": "markdown",
   "metadata": {},
   "source": [
    "### Load, Extract and Transform Data"
   ]
  },
  {
   "cell_type": "code",
   "execution_count": null,
   "metadata": {},
   "outputs": [],
   "source": [
    "kaggle_download(\"playground-series-s4e11\", \"data\")   "
   ]
  },
  {
   "cell_type": "code",
   "execution_count": null,
   "metadata": {},
   "outputs": [],
   "source": [
    "# load the training dataset\n",
    "train_df = pd.read_csv(\"data/train.csv\")\n",
    "\n",
    "# drop the id columns\n",
    "train_df.drop(\"id\", axis=1, inplace=True)\n",
    "\n",
    "# explore the data types\n",
    "train_df.dtypes"
   ]
  },
  {
   "cell_type": "markdown",
   "metadata": {},
   "source": [
    "Rename & reformat columns names."
   ]
  },
  {
   "cell_type": "code",
   "execution_count": null,
   "metadata": {},
   "outputs": [],
   "source": [
    "rename_dict = {\n",
    "        \"Have you ever had suicidal thoughts ?\" : \"suicidal thoughts\",\n",
    "        \"Family History of Mental Illness\" : \"family history\",\n",
    "        \"Working Professional or Student\" : \"professional or student\"\n",
    "    }\n",
    "\n",
    "train_df = train_df.rename(\n",
    "    columns=rename_dict\n",
    ")\n",
    "\n",
    "train_df.columns = [col.lower() for col in train_df.columns]\n",
    "\n",
    "list(train_df.columns)"
   ]
  },
  {
   "cell_type": "markdown",
   "metadata": {},
   "source": [
    "## EDA and Feature Engineering"
   ]
  },
  {
   "cell_type": "code",
   "execution_count": 405,
   "metadata": {},
   "outputs": [],
   "source": [
    "label = \"depression\""
   ]
  },
  {
   "cell_type": "markdown",
   "metadata": {},
   "source": [
    "### Categorical Features"
   ]
  },
  {
   "cell_type": "markdown",
   "metadata": {},
   "source": [
    "Ignore the name field as a potential feature."
   ]
  },
  {
   "cell_type": "code",
   "execution_count": null,
   "metadata": {},
   "outputs": [],
   "source": [
    "train_df.select_dtypes(include=[\"object\"]).describe()"
   ]
  },
  {
   "cell_type": "markdown",
   "metadata": {},
   "source": [
    "#### Binary Categories"
   ]
  },
  {
   "cell_type": "code",
   "execution_count": null,
   "metadata": {},
   "outputs": [],
   "source": [
    "binary_features = [\"gender\", \"professional or student\", \"suicidal thoughts\", \"family history\"]\n",
    "train_df.isnull().sum()"
   ]
  },
  {
   "cell_type": "code",
   "execution_count": null,
   "metadata": {},
   "outputs": [],
   "source": [
    "for feature in binary_features:\n",
    "    categorical_exploration(train_df, feature, label, 2)"
   ]
  },
  {
   "cell_type": "markdown",
   "metadata": {},
   "source": [
    "#### Sleep Duration"
   ]
  },
  {
   "cell_type": "code",
   "execution_count": 409,
   "metadata": {},
   "outputs": [],
   "source": [
    "feature = \"sleep duration\""
   ]
  },
  {
   "cell_type": "code",
   "execution_count": null,
   "metadata": {},
   "outputs": [],
   "source": [
    "categories = train_df[feature].value_counts(normalize=True, dropna=False)\n",
    "categories"
   ]
  },
  {
   "cell_type": "code",
   "execution_count": null,
   "metadata": {},
   "outputs": [],
   "source": [
    "results, categories = top_contributors(train_df, feature, 0.01)\n",
    "results"
   ]
  },
  {
   "cell_type": "markdown",
   "metadata": {},
   "source": [
    "Sleep Duration is an inconsistent column, the most common responses (99%) are:\n",
    "- Less than 5 hours (28%)\n",
    "- 7-8 hours (26%)\n",
    "- More than 8 hours (23%)\n",
    "- 5-6 hours (22%)"
   ]
  },
  {
   "cell_type": "code",
   "execution_count": null,
   "metadata": {},
   "outputs": [],
   "source": [
    "n_categories = len(categories)\n",
    "categorical_exploration(train_df, feature, \"depression\", n_categories)"
   ]
  },
  {
   "cell_type": "markdown",
   "metadata": {},
   "source": [
    "As the majority of records are part of these four categories, the remainder of categories will be invalidated and infilled as part of preprocessing."
   ]
  },
  {
   "cell_type": "code",
   "execution_count": null,
   "metadata": {},
   "outputs": [],
   "source": [
    "train_df[feature] = train_df[feature].apply(lambda x: x if x in categories else \"Unknown\")\n",
    "train_df[feature].value_counts(dropna=False)"
   ]
  },
  {
   "cell_type": "markdown",
   "metadata": {},
   "source": [
    "#### Dietary Habits"
   ]
  },
  {
   "cell_type": "code",
   "execution_count": 414,
   "metadata": {},
   "outputs": [],
   "source": [
    "feature = \"dietary habits\""
   ]
  },
  {
   "cell_type": "code",
   "execution_count": null,
   "metadata": {},
   "outputs": [],
   "source": [
    "categories = train_df[feature].value_counts(normalize=True, dropna=False)\n",
    "categories"
   ]
  },
  {
   "cell_type": "code",
   "execution_count": null,
   "metadata": {},
   "outputs": [],
   "source": [
    "results, categories = top_contributors(train_df, feature, 0.01)\n",
    "results"
   ]
  },
  {
   "cell_type": "markdown",
   "metadata": {},
   "source": [
    "Dietary Habits is an inconsistent column, the most common responses (99%) are:\n",
    "- Moderate (35%)\n",
    "- Unhealthy (32%)\n",
    "- Healthy (32%)"
   ]
  },
  {
   "cell_type": "code",
   "execution_count": null,
   "metadata": {},
   "outputs": [],
   "source": [
    "n_categories = len(categories)\n",
    "categorical_exploration(train_df, feature, \"depression\", n_categories)"
   ]
  },
  {
   "cell_type": "code",
   "execution_count": null,
   "metadata": {},
   "outputs": [],
   "source": [
    "train_df[feature] = train_df[feature].apply(lambda x: x if x in categories else \"Unknown\")\n",
    "train_df[feature].value_counts(dropna=False)"
   ]
  },
  {
   "cell_type": "markdown",
   "metadata": {},
   "source": [
    "#### Degree"
   ]
  },
  {
   "cell_type": "code",
   "execution_count": 419,
   "metadata": {},
   "outputs": [],
   "source": [
    "feature = \"degree\""
   ]
  },
  {
   "cell_type": "code",
   "execution_count": null,
   "metadata": {},
   "outputs": [],
   "source": [
    "categories = train_df[feature].value_counts(normalize=True, dropna=False)\n",
    "categories"
   ]
  },
  {
   "cell_type": "markdown",
   "metadata": {},
   "source": [
    "Degree is an inconsistent column with high cardinality, will groups into the following categories:\n",
    "- C - High School\n",
    "- B - Bachelors\n",
    "- M - Masters\n",
    "- P - PhD\n",
    "- L - (???)\n",
    "- U - Unknown"
   ]
  },
  {
   "cell_type": "code",
   "execution_count": 421,
   "metadata": {},
   "outputs": [],
   "source": [
    "train_df[feature] = train_df[feature].apply(lambda x: x[:1] if isinstance(x, str) else \"Unknown\")\n",
    "train_df[feature] = train_df[feature].apply(lambda x: x if x in [\"B\", \"M\", \"C\", \"L\", \"P\"] else \"Unknown\")"
   ]
  },
  {
   "cell_type": "code",
   "execution_count": null,
   "metadata": {},
   "outputs": [],
   "source": [
    "categories = train_df[feature].value_counts(normalize=True, dropna=False)\n",
    "categories"
   ]
  },
  {
   "cell_type": "code",
   "execution_count": null,
   "metadata": {},
   "outputs": [],
   "source": [
    "results, categories = top_contributors(train_df, feature, 0.01)\n",
    "results"
   ]
  },
  {
   "cell_type": "code",
   "execution_count": null,
   "metadata": {},
   "outputs": [],
   "source": [
    "n_categories = len(categories)\n",
    "categorical_exploration(train_df, feature, \"depression\", n_categories)"
   ]
  },
  {
   "cell_type": "markdown",
   "metadata": {},
   "source": [
    "#### City"
   ]
  },
  {
   "cell_type": "code",
   "execution_count": 425,
   "metadata": {},
   "outputs": [],
   "source": [
    "feature = \"city\""
   ]
  },
  {
   "cell_type": "code",
   "execution_count": null,
   "metadata": {},
   "outputs": [],
   "source": [
    "categories = train_df[feature].value_counts(normalize=True, dropna=False)\n",
    "categories"
   ]
  },
  {
   "cell_type": "code",
   "execution_count": null,
   "metadata": {},
   "outputs": [],
   "source": [
    "results, categories = top_contributors(train_df, feature, 0.01)\n",
    "results"
   ]
  },
  {
   "cell_type": "code",
   "execution_count": null,
   "metadata": {},
   "outputs": [],
   "source": [
    "n_categories = len(categories)\n",
    "categorical_exploration(train_df, feature, \"depression\", n_categories)"
   ]
  },
  {
   "cell_type": "markdown",
   "metadata": {},
   "source": [
    "#### Profession"
   ]
  },
  {
   "cell_type": "code",
   "execution_count": 429,
   "metadata": {},
   "outputs": [],
   "source": [
    "feature = \"profession\""
   ]
  },
  {
   "cell_type": "code",
   "execution_count": null,
   "metadata": {},
   "outputs": [],
   "source": [
    "categories = train_df[feature].value_counts(normalize=True, dropna=False)\n",
    "categories"
   ]
  },
  {
   "cell_type": "markdown",
   "metadata": {},
   "source": [
    "Infill the missing values with Student"
   ]
  },
  {
   "cell_type": "code",
   "execution_count": null,
   "metadata": {},
   "outputs": [],
   "source": [
    "train_df[feature] = train_df[feature].apply(lambda x: \"Student\" if pd.isna(x) else x)\n",
    "categories = train_df[feature].value_counts(normalize=True, dropna=False)\n",
    "categories"
   ]
  },
  {
   "cell_type": "code",
   "execution_count": null,
   "metadata": {},
   "outputs": [],
   "source": [
    "results, categories = top_contributors(train_df, feature, 0.01)\n",
    "results"
   ]
  },
  {
   "cell_type": "code",
   "execution_count": null,
   "metadata": {},
   "outputs": [],
   "source": [
    "n_categories = len(categories)\n",
    "categorical_exploration(train_df, feature, \"depression\", n_categories)"
   ]
  },
  {
   "cell_type": "markdown",
   "metadata": {},
   "source": [
    "## Numeric Feature Engineering"
   ]
  },
  {
   "cell_type": "code",
   "execution_count": null,
   "metadata": {},
   "outputs": [],
   "source": [
    "train_df.select_dtypes(exclude=[\"object\"]).drop(\"depression\", axis=1).describe()"
   ]
  },
  {
   "cell_type": "code",
   "execution_count": null,
   "metadata": {},
   "outputs": [],
   "source": [
    "train_df.select_dtypes(exclude=[\"object\"]).drop(\"depression\", axis=1).isnull().sum()"
   ]
  },
  {
   "cell_type": "markdown",
   "metadata": {},
   "source": [
    "#### Satisfaction (job / study)"
   ]
  },
  {
   "cell_type": "code",
   "execution_count": null,
   "metadata": {},
   "outputs": [],
   "source": [
    "categorical_exploration(train_df.sort_values(\"job satisfaction\"), \"job satisfaction\", \"depression\", 100)\n",
    "categorical_exploration(train_df.sort_values(\"study satisfaction\"), \"study satisfaction\", \"depression\", 100)"
   ]
  },
  {
   "cell_type": "markdown",
   "metadata": {},
   "source": [
    "create a combined satisfaction column"
   ]
  },
  {
   "cell_type": "code",
   "execution_count": 437,
   "metadata": {},
   "outputs": [],
   "source": [
    "train_df[\"satisfaction\"] = np.floor(train_df[[\"study satisfaction\", \"job satisfaction\"]].mean(axis=1))"
   ]
  },
  {
   "cell_type": "code",
   "execution_count": null,
   "metadata": {},
   "outputs": [],
   "source": [
    "categorical_exploration(train_df.sort_values(\"satisfaction\"), \"satisfaction\", \"depression\", 100)"
   ]
  },
  {
   "cell_type": "markdown",
   "metadata": {},
   "source": [
    "#### Pressure (academic / work)"
   ]
  },
  {
   "cell_type": "code",
   "execution_count": null,
   "metadata": {},
   "outputs": [],
   "source": [
    "categorical_exploration(train_df.sort_values(\"academic pressure\"), \"academic pressure\", \"depression\", 100)\n",
    "categorical_exploration(train_df.sort_values(\"work pressure\"), \"work pressure\", \"depression\", 100)"
   ]
  },
  {
   "cell_type": "code",
   "execution_count": 440,
   "metadata": {},
   "outputs": [],
   "source": [
    "train_df[\"pressure\"] = np.floor(train_df[[\"academic pressure\", \"work pressure\"]].mean(axis=1))"
   ]
  },
  {
   "cell_type": "code",
   "execution_count": null,
   "metadata": {},
   "outputs": [],
   "source": [
    "categorical_exploration(train_df.sort_values(\"pressure\"), \"pressure\", \"depression\", 100)"
   ]
  },
  {
   "cell_type": "markdown",
   "metadata": {},
   "source": [
    "#### Work / Study Hours"
   ]
  },
  {
   "cell_type": "code",
   "execution_count": 442,
   "metadata": {},
   "outputs": [],
   "source": [
    "feature = \"work/study hours\""
   ]
  },
  {
   "cell_type": "code",
   "execution_count": null,
   "metadata": {},
   "outputs": [],
   "source": [
    "numeric_exploration(train_df, feature, label)"
   ]
  },
  {
   "cell_type": "markdown",
   "metadata": {},
   "source": [
    "#### Age"
   ]
  },
  {
   "cell_type": "code",
   "execution_count": 444,
   "metadata": {},
   "outputs": [],
   "source": [
    "feature = \"age\""
   ]
  },
  {
   "cell_type": "code",
   "execution_count": null,
   "metadata": {},
   "outputs": [],
   "source": [
    "numeric_exploration(train_df, feature, label)"
   ]
  },
  {
   "cell_type": "markdown",
   "metadata": {},
   "source": [
    "#### Financial Stress"
   ]
  },
  {
   "cell_type": "code",
   "execution_count": 446,
   "metadata": {},
   "outputs": [],
   "source": [
    "feature = \"financial stress\""
   ]
  },
  {
   "cell_type": "code",
   "execution_count": null,
   "metadata": {},
   "outputs": [],
   "source": [
    "numeric_exploration(train_df, feature, label)"
   ]
  },
  {
   "cell_type": "code",
   "execution_count": null,
   "metadata": {},
   "outputs": [],
   "source": [
    "subset = train_df[[\"age\", \"pressure\", \"satisfaction\", \"work/study hours\", \"financial stress\", \"depression\"]]\n",
    "sns.heatmap(data=subset.corr(), cmap=\"coolwarm\", annot=True)"
   ]
  },
  {
   "cell_type": "code",
   "execution_count": 449,
   "metadata": {},
   "outputs": [],
   "source": [
    "# sns.pairplot(data=subset.sample(frac=0.1, replace=False), hue=\"depression\")"
   ]
  },
  {
   "cell_type": "markdown",
   "metadata": {},
   "source": [
    "## Modelling"
   ]
  },
  {
   "cell_type": "markdown",
   "metadata": {},
   "source": [
    "### Data Categories"
   ]
  },
  {
   "cell_type": "code",
   "execution_count": 450,
   "metadata": {},
   "outputs": [],
   "source": [
    "ordinal_dict = {\n",
    "    \"dietary habits\" : [\"Unhealthy\", \"Moderate\", \"Healthy\", \"Unknown\"],\n",
    "    \"sleep duration\" : [\"Less than 5 hours\", \"5-6 hours\", \"7-8 hours\", \"More than 8 hours\", \"Unknown\"],\n",
    "    \"degree\" : [\"C\", \"B\", \"M\", \"L\", \"P\", \"Unknown\"],\n",
    "}\n",
    "\n",
    "# one hot encoding list\n",
    "ohe_list = [\"gender\", \"professional or student\", \"family history\", \"suicidal thoughts\"]\n",
    "\n",
    "# ordinal encoding list\n",
    "ord_list = list(ordinal_dict.keys())\n",
    "\n",
    "# numeric list\n",
    "num_list = [\"work/study hours\", \"age\", \"satisfaction\", \"pressure\", \"financial stress\"]"
   ]
  },
  {
   "cell_type": "markdown",
   "metadata": {},
   "source": [
    "### Data Preparation"
   ]
  },
  {
   "cell_type": "code",
   "execution_count": 451,
   "metadata": {},
   "outputs": [],
   "source": [
    "def preprocessing(df, ord_dict, rename_dict):\n",
    "    df.rename(columns=rename_dict, inplace=True)\n",
    "    df.columns = [col.lower() for col in df.columns]\n",
    "    df[\"pressure\"] = np.floor(df[[\"academic pressure\", \"work pressure\"]].mean(axis=1))\n",
    "    df[\"pressure\"] = df[\"pressure\"].apply(lambda x: x if x > 0 else 0)\n",
    "    \n",
    "    df[\"satisfaction\"] = np.floor(df[[\"study satisfaction\", \"job satisfaction\"]].mean(axis=1))\n",
    "    df[\"satisfaction\"] = df[\"satisfaction\"].apply(lambda x: x if x > 0 else 0)\n",
    "    \n",
    "    df[\"financial stress\"] = df[\"financial stress\"].apply(lambda x: x if x > 0 else 0)\n",
    "    \n",
    "    \n",
    "    df.drop([\"academic pressure\", \"work pressure\", \"study satisfaction\", \"job satisfaction\"], axis=1, inplace=True)\n",
    "    \n",
    "    df[\"degree\"] = df[\"degree\"].apply(lambda x: x[:1] if isinstance(x, str) else \"Unknown\")\n",
    "    for feature, vals in ord_dict.items():\n",
    "        df[feature] = df[feature].apply(lambda x: x if x in vals else \"Unknown\")\n",
    "    return df"
   ]
  },
  {
   "cell_type": "markdown",
   "metadata": {},
   "source": [
    "### Data Preprocessing"
   ]
  },
  {
   "cell_type": "code",
   "execution_count": 452,
   "metadata": {},
   "outputs": [],
   "source": [
    "numeric_preprocess = Pipeline(steps=[\n",
    "    ('imputer', SimpleImputer(strategy='mean')),  \n",
    "    ('scaler', StandardScaler()) \n",
    "])\n",
    "\n",
    "categorical_preprocess = Pipeline(steps=[\n",
    "    ('imputer', SimpleImputer(strategy='most_frequent')), \n",
    "    ('ohe', OneHotEncoder(drop=\"first\")) \n",
    "])\n",
    "\n",
    "ordinal_preprocess = Pipeline(steps=[\n",
    "    ('imputer', SimpleImputer(strategy='most_frequent')), \n",
    "    ('oe', OrdinalEncoder(categories=[val for val in ordinal_dict.values()])) \n",
    "])\n",
    "\n",
    "preprocessor = ColumnTransformer(\n",
    "    transformers=[\n",
    "        ('num', numeric_preprocess, num_list),\n",
    "        ('cat', categorical_preprocess, ohe_list),\n",
    "        ('ord', ordinal_preprocess, ord_list),\n",
    "    ]\n",
    ")"
   ]
  },
  {
   "cell_type": "code",
   "execution_count": 453,
   "metadata": {},
   "outputs": [],
   "source": [
    "X = train_df.drop(\"depression\", axis=1)#[ohe_list+ord_list+num_list]#+lab_list]\n",
    "y = train_df[\"depression\"]\n",
    "\n",
    "X_train, X_test, y_train, y_test = train_test_split(X, y, test_size=0.2, stratify=y, random_state=42)"
   ]
  },
  {
   "cell_type": "code",
   "execution_count": null,
   "metadata": {},
   "outputs": [],
   "source": [
    "model = pipeline = Pipeline([\n",
    "    ('preprocessing', preprocessor),\n",
    "    ('classifier', LGBMClassifier())\n",
    "])\n",
    "\n",
    "model.fit(X_train, y_train)"
   ]
  },
  {
   "cell_type": "code",
   "execution_count": null,
   "metadata": {},
   "outputs": [],
   "source": [
    "model.score(X_test, y_test)"
   ]
  },
  {
   "cell_type": "code",
   "execution_count": 456,
   "metadata": {},
   "outputs": [],
   "source": [
    "test_df = pd.read_csv(\"./data/test.csv\")\n",
    "test_df = preprocessing(test_df, ordinal_dict, rename_dict)"
   ]
  },
  {
   "cell_type": "code",
   "execution_count": null,
   "metadata": {},
   "outputs": [],
   "source": [
    "submission = pd.DataFrame(\n",
    "    {\n",
    "        \"id\": test_df[\"id\"].values,\n",
    "        \"Depression\": model.predict(test_df),\n",
    "     }\n",
    ")\n",
    "\n",
    "submission.head()"
   ]
  }
 ],
 "metadata": {
  "kernelspec": {
   "display_name": ".venv",
   "language": "python",
   "name": "python3"
  },
  "language_info": {
   "codemirror_mode": {
    "name": "ipython",
    "version": 3
   },
   "file_extension": ".py",
   "mimetype": "text/x-python",
   "name": "python",
   "nbconvert_exporter": "python",
   "pygments_lexer": "ipython3",
   "version": "3.12.2"
  }
 },
 "nbformat": 4,
 "nbformat_minor": 2
}
